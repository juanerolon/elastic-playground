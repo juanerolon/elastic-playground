{
 "cells": [
  {
   "cell_type": "code",
   "execution_count": 73,
   "metadata": {
    "collapsed": false
   },
   "outputs": [],
   "source": [
    "import numpy as np\n",
    "import pandas as pd\n",
    "import json\n",
    "import nltk\n",
    "import matplotlib.pyplot as plt\n",
    "from IPython.display import display # Allows the use of display() for DataFrames"
   ]
  },
  {
   "cell_type": "code",
   "execution_count": 5,
   "metadata": {
    "collapsed": true
   },
   "outputs": [],
   "source": [
    "sample_json= [{\n",
    "  \"_index\": \"suricata-000568\",\n",
    "  \"_type\": \"doc\",\n",
    "  \"_id\": \"iwudqWQBPs4-MNMx4s59\",\n",
    "  \"_version\": 1,\n",
    "  \"_score\": 1,\n",
    "  \"_source\": {\n",
    "    \"vlan\": 36,\n",
    "    \"node_ip\": \"10.10.4.141\",\n",
    "    \"dest_port\": 53,\n",
    "    \"in_iface\": \"enp6s0\",\n",
    "    \"src_ip\": \"10.10.4.141\",\n",
    "    \"event_type\": \"dns\",\n",
    "    \"timestamp\": \"2018-07-17T19:00:52.922136+0000\",\n",
    "    \"tags\": [\n",
    "      \"local_src\",\n",
    "      \"local_remote\",\n",
    "      \"remote_service\",\n",
    "      \"src_node_name\"\n",
    "    ],\n",
    "    \"dns\": {\n",
    "      \"tx_id\": 0,\n",
    "      \"id\": 33846,\n",
    "      \"type\": \"query\",\n",
    "      \"rrtype\": \"A\",\n",
    "      \"rrname\": \"eum.concursolutions.com\"\n",
    "    },\n",
    "    \"sensor_name\": \"ege-sensor001\",\n",
    "    \"proto\": \"UDP\",\n",
    "    \"local_ip\": \"10.10.4.141\",\n",
    "    \"client_name\": \"ege\",\n",
    "    \"@version\": \"1\",\n",
    "    \"@timestamp\": \"2018-07-17T19:00:52.922Z\",\n",
    "    \"node_composite\": \"10.10.4.141+ege\",\n",
    "    \"geoip\": {\n",
    "      \"latitude\": 37.7697,\n",
    "      \"postal_code\": \"94107\",\n",
    "      \"country_code2\": \"US\",\n",
    "      \"continent_code\": \"NA\",\n",
    "      \"city_name\": \"San Francisco\",\n",
    "      \"region_code\": \"CA\",\n",
    "      \"country_code3\": \"US\",\n",
    "      \"region_name\": \"California\",\n",
    "      \"ip\": \"208.67.222.222\",\n",
    "      \"country_name\": \"United States\",\n",
    "      \"timezone\": \"America/Los_Angeles\",\n",
    "      \"location\": {\n",
    "        \"lon\": -122.3933,\n",
    "        \"lat\": 37.7697\n",
    "      },\n",
    "      \"longitude\": -122.3933,\n",
    "      \"dma_code\": 807\n",
    "    },\n",
    "    \"src_hostname\": \"10.10.4.141\",\n",
    "    \"path\": \"/nsm/suricata/eve.json\",\n",
    "    \"src_port\": 61719,\n",
    "    \"consumer\": \"logstash-test\",\n",
    "    \"type\": \"doc\",\n",
    "    \"dest_ip\": \"208.67.222.222\",\n",
    "    \"service_port\": 53,\n",
    "    \"host\": \"ege-sensor001\",\n",
    "    \"flow_id\": 1103637965443608,\n",
    "    \"log_source\": \"suricata\"\n",
    "  },\n",
    "  \"fields\": {\n",
    "    \"@timestamp\": [\n",
    "      \"2018-07-17T19:00:52.922Z\"\n",
    "    ],\n",
    "    \"timestamp\": [\n",
    "      \"2018-07-17T19:00:52.922Z\"\n",
    "    ]\n",
    "  },\n",
    "  \"sort\": [\n",
    "    1531854052922\n",
    "  ]\n",
    "}]"
   ]
  },
  {
   "cell_type": "code",
   "execution_count": 6,
   "metadata": {
    "collapsed": true
   },
   "outputs": [],
   "source": [
    "json_str = json.dumps(sample_json)\n",
    "dfjs = pd.read_json(json_str, orient='records')"
   ]
  },
  {
   "cell_type": "code",
   "execution_count": 22,
   "metadata": {
    "collapsed": false
   },
   "outputs": [
    {
     "name": "stdout",
     "output_type": "stream",
     "text": [
      "No. = 0, Field = _id, Value =0    iwudqWQBPs4-MNMx4s59\n",
      "Name: _id, dtype: object\n",
      "\n",
      "No. = 1, Field = _index, Value =0    suricata-000568\n",
      "Name: _index, dtype: object\n",
      "\n",
      "No. = 2, Field = _score, Value =0    1\n",
      "Name: _score, dtype: int64\n",
      "\n",
      "No. = 3, Field = _source, Value =0    {'dns': {'type': 'query', 'rrtype': 'A', 'tx_i...\n",
      "Name: _source, dtype: object\n",
      "\n",
      "No. = 4, Field = _type, Value =0    doc\n",
      "Name: _type, dtype: object\n",
      "\n",
      "No. = 5, Field = _version, Value =0    1\n",
      "Name: _version, dtype: int64\n",
      "\n",
      "No. = 6, Field = fields, Value =0    {'@timestamp': ['2018-07-17T19:00:52.922Z'], '...\n",
      "Name: fields, dtype: object\n",
      "\n",
      "No. = 7, Field = sort, Value =0    [1531854052922]\n",
      "Name: sort, dtype: object\n",
      "\n"
     ]
    }
   ],
   "source": [
    "# Display a description of the dataset\n",
    "for i, col in enumerate(dfjs.columns):\n",
    "    print(\"No. = {}, Field = {}, Value ={}\\n\".format(i, col, dfjs[col]))"
   ]
  },
  {
   "cell_type": "code",
   "execution_count": 85,
   "metadata": {
    "collapsed": false
   },
   "outputs": [
    {
     "name": "stdout",
     "output_type": "stream",
     "text": [
      "dtype is object\n",
      "None\n",
      "Is object? True\n",
      "None\n",
      "\n",
      "dtype is object\n",
      "None\n",
      "Is object? True\n",
      "None\n",
      "\n",
      "dtype is int64\n",
      "None\n",
      "Is object? False\n",
      "None\n",
      "\n",
      "dtype is object\n",
      "None\n",
      "Is object? True\n",
      "None\n",
      "\n",
      "dtype is object\n",
      "None\n",
      "Is object? True\n",
      "None\n",
      "\n",
      "dtype is int64\n",
      "None\n",
      "Is object? False\n",
      "None\n",
      "\n",
      "dtype is object\n",
      "None\n",
      "Is object? True\n",
      "None\n",
      "\n",
      "dtype is object\n",
      "None\n",
      "Is object? True\n",
      "None\n",
      "\n"
     ]
    }
   ],
   "source": [
    "#Select by specific dtype\n",
    "\n",
    "# Display a description of the dataset\n",
    "for col in dfjs:\n",
    "    print(print(\"dtype is {}\".format(np.dtype(dfjs[col]))))\n",
    "    print(print(\"Is object? {}\".format(np.dtype(dfjs[col])=='object')))\n",
    "    print(\"\")\n",
    "    "
   ]
  },
  {
   "cell_type": "code",
   "execution_count": 62,
   "metadata": {
    "collapsed": false
   },
   "outputs": [
    {
     "name": "stdout",
     "output_type": "stream",
     "text": [
      "No. = 0, Field = _id, Value =iwudqWQBPs4-MNMx4s59\n",
      "\n",
      "No. = 1, Field = _index, Value =suricata-000568\n",
      "\n",
      "No. = 2, Field = _score, Value =1\n",
      "\n",
      "No. = 3, Field = _source, Value ={'dns': {'type': 'query', 'rrtype': 'A', 'tx_id': 0, 'id': 33846, 'rrname': 'eum.concursolutions.com'}, '@timestamp': '2018-07-17T19:00:52.922Z', 'node_ip': '10.10.4.141', 'local_ip': '10.10.4.141', 'consumer': 'logstash-test', 'path': '/nsm/suricata/eve.json', 'dest_ip': '208.67.222.222', 'sensor_name': 'ege-sensor001', 'client_name': 'ege', 'vlan': 36, 'service_port': 53, 'src_ip': '10.10.4.141', '@version': '1', 'tags': ['local_src', 'local_remote', 'remote_service', 'src_node_name'], 'log_source': 'suricata', 'flow_id': 1103637965443608, 'src_port': 61719, 'dest_port': 53, 'host': 'ege-sensor001', 'geoip': {'latitude': 37.7697, 'postal_code': '94107', 'ip': '208.67.222.222', 'continent_code': 'NA', 'timezone': 'America/Los_Angeles', 'region_code': 'CA', 'region_name': 'California', 'longitude': -122.3933, 'location': {'lon': -122.3933, 'lat': 37.7697}, 'dma_code': 807, 'city_name': 'San Francisco', 'country_name': 'United States', 'country_code3': 'US', 'country_code2': 'US'}, 'event_type': 'dns', 'src_hostname': '10.10.4.141', 'type': 'doc', 'timestamp': '2018-07-17T19:00:52.922136+0000', 'in_iface': 'enp6s0', 'node_composite': '10.10.4.141+ege', 'proto': 'UDP'}\n",
      "\n",
      "No. = 4, Field = _type, Value =doc\n",
      "\n",
      "No. = 5, Field = _version, Value =1\n",
      "\n",
      "No. = 6, Field = fields, Value ={'@timestamp': ['2018-07-17T19:00:52.922Z'], 'timestamp': ['2018-07-17T19:00:52.922Z']}\n",
      "\n",
      "No. = 7, Field = sort, Value =[1531854052922]\n",
      "\n"
     ]
    }
   ],
   "source": [
    "# Display a description of the dataset\n",
    "# Considers only the first element of the array object, which is the only non-empyt element.\n",
    "\n",
    "for i, col in enumerate(dfjs.columns):\n",
    "    print(\"No. = {}, Field = {}, Value ={}\\n\".format(i, col, dfjs[col][0]))"
   ]
  },
  {
   "cell_type": "code",
   "execution_count": 36,
   "metadata": {
    "collapsed": false
   },
   "outputs": [
    {
     "data": {
      "text/html": [
       "<div>\n",
       "<style>\n",
       "    .dataframe thead tr:only-child th {\n",
       "        text-align: right;\n",
       "    }\n",
       "\n",
       "    .dataframe thead th {\n",
       "        text-align: left;\n",
       "    }\n",
       "\n",
       "    .dataframe tbody tr th {\n",
       "        vertical-align: top;\n",
       "    }\n",
       "</style>\n",
       "<table border=\"1\" class=\"dataframe\">\n",
       "  <thead>\n",
       "    <tr style=\"text-align: right;\">\n",
       "      <th></th>\n",
       "      <th>_id</th>\n",
       "      <th>_index</th>\n",
       "      <th>_score</th>\n",
       "      <th>_source</th>\n",
       "      <th>_type</th>\n",
       "      <th>_version</th>\n",
       "      <th>fields</th>\n",
       "      <th>sort</th>\n",
       "    </tr>\n",
       "  </thead>\n",
       "  <tbody>\n",
       "    <tr>\n",
       "      <th>0</th>\n",
       "      <td>iwudqWQBPs4-MNMx4s59</td>\n",
       "      <td>suricata-000568</td>\n",
       "      <td>1</td>\n",
       "      <td>{'dns': {'type': 'query', 'rrtype': 'A', 'tx_i...</td>\n",
       "      <td>doc</td>\n",
       "      <td>1</td>\n",
       "      <td>{'@timestamp': ['2018-07-17T19:00:52.922Z'], '...</td>\n",
       "      <td>[1531854052922]</td>\n",
       "    </tr>\n",
       "  </tbody>\n",
       "</table>\n",
       "</div>"
      ],
      "text/plain": [
       "                    _id           _index  _score  \\\n",
       "0  iwudqWQBPs4-MNMx4s59  suricata-000568       1   \n",
       "\n",
       "                                             _source _type  _version  \\\n",
       "0  {'dns': {'type': 'query', 'rrtype': 'A', 'tx_i...   doc         1   \n",
       "\n",
       "                                              fields             sort  \n",
       "0  {'@timestamp': ['2018-07-17T19:00:52.922Z'], '...  [1531854052922]  "
      ]
     },
     "metadata": {},
     "output_type": "display_data"
    }
   ],
   "source": [
    "display(dfjs,limit=3)"
   ]
  },
  {
   "cell_type": "code",
   "execution_count": 24,
   "metadata": {
    "collapsed": false
   },
   "outputs": [
    {
     "name": "stdout",
     "output_type": "stream",
     "text": [
      "[{'dns': {'type': 'query', 'rrtype': 'A', 'tx_id': 0, 'id': 33846, 'rrname': 'eum.concursolutions.com'}, '@timestamp': '2018-07-17T19:00:52.922Z', 'node_ip': '10.10.4.141', 'local_ip': '10.10.4.141', 'consumer': 'logstash-test', 'path': '/nsm/suricata/eve.json', 'dest_ip': '208.67.222.222', 'sensor_name': 'ege-sensor001', 'client_name': 'ege', 'vlan': 36, 'service_port': 53, 'src_ip': '10.10.4.141', '@version': '1', 'tags': ['local_src', 'local_remote', 'remote_service', 'src_node_name'], 'log_source': 'suricata', 'flow_id': 1103637965443608, 'src_port': 61719, 'dest_port': 53, 'host': 'ege-sensor001', 'geoip': {'latitude': 37.7697, 'postal_code': '94107', 'ip': '208.67.222.222', 'continent_code': 'NA', 'timezone': 'America/Los_Angeles', 'region_code': 'CA', 'region_name': 'California', 'longitude': -122.3933, 'location': {'lon': -122.3933, 'lat': 37.7697}, 'dma_code': 807, 'city_name': 'San Francisco', 'country_name': 'United States', 'country_code3': 'US', 'country_code2': 'US'}, 'event_type': 'dns', 'src_hostname': '10.10.4.141', 'type': 'doc', 'timestamp': '2018-07-17T19:00:52.922136+0000', 'in_iface': 'enp6s0', 'node_composite': '10.10.4.141+ege', 'proto': 'UDP'}]\n"
     ]
    }
   ],
   "source": [
    "print(dfjs[\"_source\"].values)"
   ]
  },
  {
   "cell_type": "code",
   "execution_count": 58,
   "metadata": {
    "collapsed": false
   },
   "outputs": [
    {
     "name": "stdout",
     "output_type": "stream",
     "text": [
      "{'dns': {'type': 'query', 'rrtype': 'A', 'tx_id': 0, 'id': 33846, 'rrname': 'eum.concursolutions.com'}, '@timestamp': '2018-07-17T19:00:52.922Z', 'node_ip': '10.10.4.141', 'local_ip': '10.10.4.141', 'consumer': 'logstash-test', 'path': '/nsm/suricata/eve.json', 'dest_ip': '208.67.222.222', 'sensor_name': 'ege-sensor001', 'client_name': 'ege', 'vlan': 36, 'service_port': 53, 'src_ip': '10.10.4.141', '@version': '1', 'tags': ['local_src', 'local_remote', 'remote_service', 'src_node_name'], 'log_source': 'suricata', 'flow_id': 1103637965443608, 'src_port': 61719, 'dest_port': 53, 'host': 'ege-sensor001', 'geoip': {'latitude': 37.7697, 'postal_code': '94107', 'ip': '208.67.222.222', 'continent_code': 'NA', 'timezone': 'America/Los_Angeles', 'region_code': 'CA', 'region_name': 'California', 'longitude': -122.3933, 'location': {'lon': -122.3933, 'lat': 37.7697}, 'dma_code': 807, 'city_name': 'San Francisco', 'country_name': 'United States', 'country_code3': 'US', 'country_code2': 'US'}, 'event_type': 'dns', 'src_hostname': '10.10.4.141', 'type': 'doc', 'timestamp': '2018-07-17T19:00:52.922136+0000', 'in_iface': 'enp6s0', 'node_composite': '10.10.4.141+ege', 'proto': 'UDP'}\n"
     ]
    }
   ],
   "source": [
    "print(dfjs[\"_source\"].values[0])"
   ]
  },
  {
   "cell_type": "code",
   "execution_count": 31,
   "metadata": {
    "collapsed": false
   },
   "outputs": [],
   "source": [
    "data = [{'dns': {'type': 'query', 'rrtype': 'A', 'tx_id': 0, 'id': 33846, 'rrname': 'eum.concursolutions.com'}, '@timestamp': '2018-07-17T19:00:52.922Z', 'node_ip': '10.10.4.141', 'local_ip': '10.10.4.141', 'consumer': 'logstash-test', 'path': '/nsm/suricata/eve.json', 'dest_ip': '208.67.222.222', 'sensor_name': 'ege-sensor001', 'client_name': 'ege', 'vlan': 36, 'service_port': 53, 'src_ip': '10.10.4.141', '@version': '1', 'tags': ['local_src', 'local_remote', 'remote_service', 'src_node_name'], 'log_source': 'suricata', 'flow_id': 1103637965443608, 'src_port': 61719, 'dest_port': 53, 'host': 'ege-sensor001', 'geoip': {'latitude': 37.7697, 'postal_code': '94107', 'ip': '208.67.222.222', 'continent_code': 'NA', 'timezone': 'America/Los_Angeles', 'region_code': 'CA', 'region_name': 'California', 'longitude': -122.3933, 'location': {'lon': -122.3933, 'lat': 37.7697}, 'dma_code': 807, 'city_name': 'San Francisco', 'country_name': 'United States', 'country_code3': 'US', 'country_code2': 'US'}, 'event_type': 'dns', 'src_hostname': '10.10.4.141', 'type': 'doc', 'timestamp': '2018-07-17T19:00:52.922136+0000', 'in_iface': 'enp6s0', 'node_composite': '10.10.4.141+ege', 'proto': 'UDP'}]"
   ]
  },
  {
   "cell_type": "code",
   "execution_count": 61,
   "metadata": {
    "collapsed": false
   },
   "outputs": [],
   "source": [
    "json_data = json.dumps(data)\n",
    "dfx = pd.read_json(json_data, orient='records')"
   ]
  },
  {
   "cell_type": "code",
   "execution_count": 33,
   "metadata": {
    "collapsed": false
   },
   "outputs": [
    {
     "name": "stdout",
     "output_type": "stream",
     "text": [
      "Index(['@timestamp', '@version', 'client_name', 'consumer', 'dest_ip',\n",
      "       'dest_port', 'dns', 'event_type', 'flow_id', 'geoip', 'host',\n",
      "       'in_iface', 'local_ip', 'log_source', 'node_composite', 'node_ip',\n",
      "       'path', 'proto', 'sensor_name', 'service_port', 'src_hostname',\n",
      "       'src_ip', 'src_port', 'tags', 'timestamp', 'type', 'vlan'],\n",
      "      dtype='object')\n"
     ]
    }
   ],
   "source": [
    "print(dfx.columns)"
   ]
  },
  {
   "cell_type": "code",
   "execution_count": 63,
   "metadata": {
    "collapsed": false
   },
   "outputs": [
    {
     "name": "stdout",
     "output_type": "stream",
     "text": [
      "No. = 0, Field = @timestamp, Value =2018-07-17T19:00:52.922Z\n",
      "\n",
      "No. = 1, Field = @version, Value =1\n",
      "\n",
      "No. = 2, Field = client_name, Value =ege\n",
      "\n",
      "No. = 3, Field = consumer, Value =logstash-test\n",
      "\n",
      "No. = 4, Field = dest_ip, Value =208.67.222.222\n",
      "\n",
      "No. = 5, Field = dest_port, Value =53\n",
      "\n",
      "No. = 6, Field = dns, Value ={'type': 'query', 'rrtype': 'A', 'tx_id': 0, 'id': 33846, 'rrname': 'eum.concursolutions.com'}\n",
      "\n",
      "No. = 7, Field = event_type, Value =dns\n",
      "\n",
      "No. = 8, Field = flow_id, Value =1103637965443608\n",
      "\n",
      "No. = 9, Field = geoip, Value ={'latitude': 37.7697, 'postal_code': '94107', 'ip': '208.67.222.222', 'continent_code': 'NA', 'timezone': 'America/Los_Angeles', 'region_code': 'CA', 'region_name': 'California', 'longitude': -122.3933, 'location': {'lon': -122.3933, 'lat': 37.7697}, 'dma_code': 807, 'city_name': 'San Francisco', 'country_name': 'United States', 'country_code3': 'US', 'country_code2': 'US'}\n",
      "\n",
      "No. = 10, Field = host, Value =ege-sensor001\n",
      "\n",
      "No. = 11, Field = in_iface, Value =enp6s0\n",
      "\n",
      "No. = 12, Field = local_ip, Value =10.10.4.141\n",
      "\n",
      "No. = 13, Field = log_source, Value =suricata\n",
      "\n",
      "No. = 14, Field = node_composite, Value =10.10.4.141+ege\n",
      "\n",
      "No. = 15, Field = node_ip, Value =10.10.4.141\n",
      "\n",
      "No. = 16, Field = path, Value =/nsm/suricata/eve.json\n",
      "\n",
      "No. = 17, Field = proto, Value =UDP\n",
      "\n",
      "No. = 18, Field = sensor_name, Value =ege-sensor001\n",
      "\n",
      "No. = 19, Field = service_port, Value =53\n",
      "\n",
      "No. = 20, Field = src_hostname, Value =10.10.4.141\n",
      "\n",
      "No. = 21, Field = src_ip, Value =10.10.4.141\n",
      "\n",
      "No. = 22, Field = src_port, Value =61719\n",
      "\n",
      "No. = 23, Field = tags, Value =['local_src', 'local_remote', 'remote_service', 'src_node_name']\n",
      "\n",
      "No. = 24, Field = timestamp, Value =2018-07-17 19:00:52.922136\n",
      "\n",
      "No. = 25, Field = type, Value =doc\n",
      "\n",
      "No. = 26, Field = vlan, Value =36\n",
      "\n"
     ]
    }
   ],
   "source": [
    "# Display a description of the dataset\n",
    "for i, col in enumerate(dfx.columns):\n",
    "    print(\"No. = {}, Field = {}, Value ={}\\n\".format(i, col, dfx[col][0]))"
   ]
  },
  {
   "cell_type": "code",
   "execution_count": 38,
   "metadata": {
    "collapsed": false
   },
   "outputs": [
    {
     "data": {
      "text/html": [
       "<div>\n",
       "<style>\n",
       "    .dataframe thead tr:only-child th {\n",
       "        text-align: right;\n",
       "    }\n",
       "\n",
       "    .dataframe thead th {\n",
       "        text-align: left;\n",
       "    }\n",
       "\n",
       "    .dataframe tbody tr th {\n",
       "        vertical-align: top;\n",
       "    }\n",
       "</style>\n",
       "<table border=\"1\" class=\"dataframe\">\n",
       "  <thead>\n",
       "    <tr style=\"text-align: right;\">\n",
       "      <th></th>\n",
       "      <th>@timestamp</th>\n",
       "      <th>@version</th>\n",
       "      <th>client_name</th>\n",
       "      <th>consumer</th>\n",
       "      <th>dest_ip</th>\n",
       "      <th>dest_port</th>\n",
       "      <th>dns</th>\n",
       "      <th>event_type</th>\n",
       "      <th>flow_id</th>\n",
       "      <th>geoip</th>\n",
       "      <th>...</th>\n",
       "      <th>proto</th>\n",
       "      <th>sensor_name</th>\n",
       "      <th>service_port</th>\n",
       "      <th>src_hostname</th>\n",
       "      <th>src_ip</th>\n",
       "      <th>src_port</th>\n",
       "      <th>tags</th>\n",
       "      <th>timestamp</th>\n",
       "      <th>type</th>\n",
       "      <th>vlan</th>\n",
       "    </tr>\n",
       "  </thead>\n",
       "  <tbody>\n",
       "    <tr>\n",
       "      <th>0</th>\n",
       "      <td>2018-07-17T19:00:52.922Z</td>\n",
       "      <td>1</td>\n",
       "      <td>ege</td>\n",
       "      <td>logstash-test</td>\n",
       "      <td>208.67.222.222</td>\n",
       "      <td>53</td>\n",
       "      <td>{'type': 'query', 'rrtype': 'A', 'tx_id': 0, '...</td>\n",
       "      <td>dns</td>\n",
       "      <td>1103637965443608</td>\n",
       "      <td>{'latitude': 37.7697, 'postal_code': '94107', ...</td>\n",
       "      <td>...</td>\n",
       "      <td>UDP</td>\n",
       "      <td>ege-sensor001</td>\n",
       "      <td>53</td>\n",
       "      <td>10.10.4.141</td>\n",
       "      <td>10.10.4.141</td>\n",
       "      <td>61719</td>\n",
       "      <td>[local_src, local_remote, remote_service, src_...</td>\n",
       "      <td>2018-07-17 19:00:52.922136</td>\n",
       "      <td>doc</td>\n",
       "      <td>36</td>\n",
       "    </tr>\n",
       "  </tbody>\n",
       "</table>\n",
       "<p>1 rows × 27 columns</p>\n",
       "</div>"
      ],
      "text/plain": [
       "                 @timestamp  @version client_name       consumer  \\\n",
       "0  2018-07-17T19:00:52.922Z         1         ege  logstash-test   \n",
       "\n",
       "          dest_ip  dest_port  \\\n",
       "0  208.67.222.222         53   \n",
       "\n",
       "                                                 dns event_type  \\\n",
       "0  {'type': 'query', 'rrtype': 'A', 'tx_id': 0, '...        dns   \n",
       "\n",
       "            flow_id                                              geoip  ...   \\\n",
       "0  1103637965443608  {'latitude': 37.7697, 'postal_code': '94107', ...  ...    \n",
       "\n",
       "  proto    sensor_name service_port src_hostname       src_ip src_port  \\\n",
       "0   UDP  ege-sensor001           53  10.10.4.141  10.10.4.141    61719   \n",
       "\n",
       "                                                tags  \\\n",
       "0  [local_src, local_remote, remote_service, src_...   \n",
       "\n",
       "                   timestamp type  vlan  \n",
       "0 2018-07-17 19:00:52.922136  doc    36  \n",
       "\n",
       "[1 rows x 27 columns]"
      ]
     },
     "metadata": {},
     "output_type": "display_data"
    }
   ],
   "source": [
    "display(dfx)"
   ]
  },
  {
   "cell_type": "code",
   "execution_count": 44,
   "metadata": {
    "collapsed": false
   },
   "outputs": [
    {
     "data": {
      "text/plain": [
       "array([list(['local_src', 'local_remote', 'remote_service', 'src_node_name'])],\n",
       "      dtype=object)"
      ]
     },
     "metadata": {},
     "output_type": "display_data"
    }
   ],
   "source": [
    "display(dfx.tags.values)"
   ]
  },
  {
   "cell_type": "code",
   "execution_count": 51,
   "metadata": {
    "collapsed": false
   },
   "outputs": [
    {
     "name": "stdout",
     "output_type": "stream",
     "text": [
      "['local_src', 'local_remote', 'remote_service', 'src_node_name']\n"
     ]
    }
   ],
   "source": [
    "print(dfx[\"tags\"][0])"
   ]
  },
  {
   "cell_type": "code",
   "execution_count": 54,
   "metadata": {
    "collapsed": false
   },
   "outputs": [
    {
     "name": "stdout",
     "output_type": "stream",
     "text": [
      "{'type': 'query', 'rrtype': 'A', 'tx_id': 0, 'id': 33846, 'rrname': 'eum.concursolutions.com'}\n"
     ]
    }
   ],
   "source": [
    "print(dfx[\"dns\"][0])"
   ]
  },
  {
   "cell_type": "code",
   "execution_count": 86,
   "metadata": {
    "collapsed": true
   },
   "outputs": [],
   "source": [
    "geoip_data = pd.DataFrame(dfx[\"geoip\"][0])"
   ]
  },
  {
   "cell_type": "code",
   "execution_count": 87,
   "metadata": {
    "collapsed": false
   },
   "outputs": [
    {
     "data": {
      "text/html": [
       "<div>\n",
       "<style>\n",
       "    .dataframe thead tr:only-child th {\n",
       "        text-align: right;\n",
       "    }\n",
       "\n",
       "    .dataframe thead th {\n",
       "        text-align: left;\n",
       "    }\n",
       "\n",
       "    .dataframe tbody tr th {\n",
       "        vertical-align: top;\n",
       "    }\n",
       "</style>\n",
       "<table border=\"1\" class=\"dataframe\">\n",
       "  <thead>\n",
       "    <tr style=\"text-align: right;\">\n",
       "      <th></th>\n",
       "      <th>city_name</th>\n",
       "      <th>continent_code</th>\n",
       "      <th>country_code2</th>\n",
       "      <th>country_code3</th>\n",
       "      <th>country_name</th>\n",
       "      <th>dma_code</th>\n",
       "      <th>ip</th>\n",
       "      <th>latitude</th>\n",
       "      <th>location</th>\n",
       "      <th>longitude</th>\n",
       "      <th>postal_code</th>\n",
       "      <th>region_code</th>\n",
       "      <th>region_name</th>\n",
       "      <th>timezone</th>\n",
       "    </tr>\n",
       "  </thead>\n",
       "  <tbody>\n",
       "    <tr>\n",
       "      <th>lat</th>\n",
       "      <td>San Francisco</td>\n",
       "      <td>NA</td>\n",
       "      <td>US</td>\n",
       "      <td>US</td>\n",
       "      <td>United States</td>\n",
       "      <td>807</td>\n",
       "      <td>208.67.222.222</td>\n",
       "      <td>37.7697</td>\n",
       "      <td>37.7697</td>\n",
       "      <td>-122.3933</td>\n",
       "      <td>94107</td>\n",
       "      <td>CA</td>\n",
       "      <td>California</td>\n",
       "      <td>America/Los_Angeles</td>\n",
       "    </tr>\n",
       "    <tr>\n",
       "      <th>lon</th>\n",
       "      <td>San Francisco</td>\n",
       "      <td>NA</td>\n",
       "      <td>US</td>\n",
       "      <td>US</td>\n",
       "      <td>United States</td>\n",
       "      <td>807</td>\n",
       "      <td>208.67.222.222</td>\n",
       "      <td>37.7697</td>\n",
       "      <td>-122.3933</td>\n",
       "      <td>-122.3933</td>\n",
       "      <td>94107</td>\n",
       "      <td>CA</td>\n",
       "      <td>California</td>\n",
       "      <td>America/Los_Angeles</td>\n",
       "    </tr>\n",
       "  </tbody>\n",
       "</table>\n",
       "</div>"
      ],
      "text/plain": [
       "         city_name continent_code country_code2 country_code3   country_name  \\\n",
       "lat  San Francisco             NA            US            US  United States   \n",
       "lon  San Francisco             NA            US            US  United States   \n",
       "\n",
       "     dma_code              ip  latitude  location  longitude postal_code  \\\n",
       "lat       807  208.67.222.222   37.7697   37.7697  -122.3933       94107   \n",
       "lon       807  208.67.222.222   37.7697 -122.3933  -122.3933       94107   \n",
       "\n",
       "    region_code region_name             timezone  \n",
       "lat          CA  California  America/Los_Angeles  \n",
       "lon          CA  California  America/Los_Angeles  "
      ]
     },
     "metadata": {},
     "output_type": "display_data"
    }
   ],
   "source": [
    "display(geoip_data)"
   ]
  },
  {
   "cell_type": "code",
   "execution_count": null,
   "metadata": {
    "collapsed": true
   },
   "outputs": [],
   "source": []
  }
 ],
 "metadata": {
  "kernelspec": {
   "display_name": "Python 3",
   "language": "python",
   "name": "python3"
  },
  "language_info": {
   "codemirror_mode": {
    "name": "ipython",
    "version": 3
   },
   "file_extension": ".py",
   "mimetype": "text/x-python",
   "name": "python",
   "nbconvert_exporter": "python",
   "pygments_lexer": "ipython3",
   "version": "3.5.3"
  }
 },
 "nbformat": 4,
 "nbformat_minor": 2
}
