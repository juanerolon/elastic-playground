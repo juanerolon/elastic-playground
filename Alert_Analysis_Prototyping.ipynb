{
 "cells": [
  {
   "cell_type": "code",
   "execution_count": 2,
   "metadata": {
    "collapsed": true
   },
   "outputs": [],
   "source": [
    "import numpy as np\n",
    "import pandas as pd\n",
    "import json\n",
    "import nltk\n",
    "import matplotlib.pyplot as plt\n",
    "from IPython.display import display # Allows the use of display() for DataFrames"
   ]
  },
  {
   "cell_type": "code",
   "execution_count": 12,
   "metadata": {
    "collapsed": false
   },
   "outputs": [
    {
     "name": "stdout",
     "output_type": "stream",
     "text": [
      "All labels in data:\n",
      "\n"
     ]
    },
    {
     "data": {
      "text/plain": [
       "['alert.category',\n",
       " 'alert.action',\n",
       " 'alert.signature_id',\n",
       " 'client_name',\n",
       " 'geoip.country_name',\n",
       " 'geoip.region_name',\n",
       " 'src_ip',\n",
       " 'dest_ip',\n",
       " 'src_port',\n",
       " 'dest_port',\n",
       " 'log_source',\n",
       " 'packet']"
      ]
     },
     "metadata": {},
     "output_type": "display_data"
    },
    {
     "name": "stdout",
     "output_type": "stream",
     "text": [
      "\n",
      "Index(['August 1st 2018, 23:59:56.883', 'August 1st 2018, 23:59:56.868',\n",
      "       'August 1st 2018, 23:59:56.868', 'August 1st 2018, 23:59:56.815',\n",
      "       'August 1st 2018, 23:59:56.141', 'August 1st 2018, 23:59:56.112',\n",
      "       'August 1st 2018, 23:59:56.035', 'August 1st 2018, 23:59:56.010',\n",
      "       'August 1st 2018, 23:59:55.648', 'August 1st 2018, 23:59:55.619',\n",
      "       ...\n",
      "       'August 1st 2018, 19:47:06.334', 'August 1st 2018, 19:47:06.321',\n",
      "       'August 1st 2018, 19:47:06.084', 'August 1st 2018, 19:47:06.000',\n",
      "       'August 1st 2018, 19:47:04.888', 'August 1st 2018, 19:47:04.661',\n",
      "       'August 1st 2018, 19:47:04.651', 'August 1st 2018, 19:47:04.414',\n",
      "       'August 1st 2018, 19:47:04.279', 'August 1st 2018, 19:47:04.158'],\n",
      "      dtype='object', name='@timestamp', length=27160)\n"
     ]
    }
   ],
   "source": [
    "full_data = pd.read_csv('search_logs_1_large.csv',index_col=0)\n",
    "\n",
    "data_cols = list(full_data.columns)\n",
    "print(\"All labels in data:\\n\")\n",
    "display(data_cols)\n",
    "print(\"\")\n",
    "print(full_data.index)"
   ]
  },
  {
   "cell_type": "code",
   "execution_count": 13,
   "metadata": {
    "collapsed": false
   },
   "outputs": [
    {
     "data": {
      "text/plain": [
       "@timestamp\n",
       "August 1st 2018, 23:59:56.883    10.1.104.149\n",
       "                                     ...     \n",
       "August 1st 2018, 19:47:04.158     10.1.130.30\n",
       "Name: src_ip, Length: 27160, dtype: object"
      ]
     },
     "metadata": {},
     "output_type": "display_data"
    }
   ],
   "source": [
    "pd.set_option('display.max_rows', 3)\n",
    "display(full_data['src_ip'])"
   ]
  },
  {
   "cell_type": "code",
   "execution_count": null,
   "metadata": {
    "collapsed": true
   },
   "outputs": [],
   "source": []
  }
 ],
 "metadata": {
  "kernelspec": {
   "display_name": "Python 3",
   "language": "python",
   "name": "python3"
  },
  "language_info": {
   "codemirror_mode": {
    "name": "ipython",
    "version": 3
   },
   "file_extension": ".py",
   "mimetype": "text/x-python",
   "name": "python",
   "nbconvert_exporter": "python",
   "pygments_lexer": "ipython3",
   "version": "3.5.3"
  }
 },
 "nbformat": 4,
 "nbformat_minor": 2
}
