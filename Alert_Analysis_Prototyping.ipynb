{
 "cells": [
  {
   "cell_type": "code",
   "execution_count": 2,
   "metadata": {
    "collapsed": true
   },
   "outputs": [],
   "source": [
    "import numpy as np\n",
    "import pandas as pd\n",
    "import json\n",
    "import nltk\n",
    "import matplotlib.pyplot as plt\n",
    "from IPython.display import display # Allows the use of display() for DataFrames"
   ]
  },
  {
   "cell_type": "code",
   "execution_count": 12,
   "metadata": {
    "collapsed": false
   },
   "outputs": [
    {
     "name": "stdout",
     "output_type": "stream",
     "text": [
      "All labels in data:\n",
      "\n"
     ]
    },
    {
     "data": {
      "text/plain": [
       "['alert.category',\n",
       " 'alert.action',\n",
       " 'alert.signature_id',\n",
       " 'client_name',\n",
       " 'geoip.country_name',\n",
       " 'geoip.region_name',\n",
       " 'src_ip',\n",
       " 'dest_ip',\n",
       " 'src_port',\n",
       " 'dest_port',\n",
       " 'log_source',\n",
       " 'packet']"
      ]
     },
     "metadata": {},
     "output_type": "display_data"
    },
    {
     "name": "stdout",
     "output_type": "stream",
     "text": [
      "\n",
      "Index(['August 1st 2018, 23:59:56.883', 'August 1st 2018, 23:59:56.868',\n",
      "       'August 1st 2018, 23:59:56.868', 'August 1st 2018, 23:59:56.815',\n",
      "       'August 1st 2018, 23:59:56.141', 'August 1st 2018, 23:59:56.112',\n",
      "       'August 1st 2018, 23:59:56.035', 'August 1st 2018, 23:59:56.010',\n",
      "       'August 1st 2018, 23:59:55.648', 'August 1st 2018, 23:59:55.619',\n",
      "       ...\n",
      "       'August 1st 2018, 19:47:06.334', 'August 1st 2018, 19:47:06.321',\n",
      "       'August 1st 2018, 19:47:06.084', 'August 1st 2018, 19:47:06.000',\n",
      "       'August 1st 2018, 19:47:04.888', 'August 1st 2018, 19:47:04.661',\n",
      "       'August 1st 2018, 19:47:04.651', 'August 1st 2018, 19:47:04.414',\n",
      "       'August 1st 2018, 19:47:04.279', 'August 1st 2018, 19:47:04.158'],\n",
      "      dtype='object', name='@timestamp', length=27160)\n"
     ]
    }
   ],
   "source": [
    "full_data = pd.read_csv('search_logs_1_large.csv',index_col=0)\n",
    "\n",
    "data_cols = list(full_data.columns)\n",
    "print(\"All labels in data:\\n\")\n",
    "display(data_cols)\n",
    "print(\"\")\n",
    "print(full_data.index)"
   ]
  },
  {
   "cell_type": "code",
   "execution_count": 14,
   "metadata": {
    "collapsed": false
   },
   "outputs": [
    {
     "data": {
      "text/plain": [
       "array(['10.1.104.149', '69.167.127.106', '77.72.169.210', ...,\n",
       "       '192.229.163.180', '52.14.242.2', '74.125.200.94'], dtype=object)"
      ]
     },
     "metadata": {},
     "output_type": "display_data"
    }
   ],
   "source": [
    "pd.set_option('display.max_rows', 3)\n",
    "display(full)"
   ]
  },
  {
   "cell_type": "code",
   "execution_count": 19,
   "metadata": {
    "collapsed": false
   },
   "outputs": [],
   "source": [
    "unique_ips = pd.DataFrame(full_data['src_ip'].unique())"
   ]
  },
  {
   "cell_type": "code",
   "execution_count": 65,
   "metadata": {
    "collapsed": true
   },
   "outputs": [],
   "source": [
    "unique_ips = pd.DataFrame(full_data['dest_ip'].unique())"
   ]
  },
  {
   "cell_type": "code",
   "execution_count": 66,
   "metadata": {
    "collapsed": false
   },
   "outputs": [
    {
     "data": {
      "text/plain": [
       "<bound method DataFrame.count of                   0\n",
       "0      70.85.220.74\n",
       "...             ...\n",
       "1327  74.125.200.94\n",
       "\n",
       "[1328 rows x 1 columns]>"
      ]
     },
     "metadata": {},
     "output_type": "display_data"
    }
   ],
   "source": [
    "display(unique_ips.count)"
   ]
  },
  {
   "cell_type": "code",
   "execution_count": 67,
   "metadata": {
    "collapsed": true
   },
   "outputs": [
    {
     "name": "stdout",
     "output_type": "stream",
     "text": [
      "70.85.220.74\n"
     ]
    },
    {
     "ename": "herror",
     "evalue": "[Errno 1] Unknown host",
     "output_type": "error",
     "traceback": [
      "\u001b[0;31m---------------------------------------------------------------------------\u001b[0m",
      "\u001b[0;31mherror\u001b[0m                                    Traceback (most recent call last)",
      "\u001b[0;32m<ipython-input-67-7a4fca9df03b>\u001b[0m in \u001b[0;36m<module>\u001b[0;34m()\u001b[0m\n\u001b[1;32m      1\u001b[0m \u001b[0;32mimport\u001b[0m \u001b[0msocket\u001b[0m\u001b[0;34m\u001b[0m\u001b[0m\n\u001b[1;32m      2\u001b[0m \u001b[0mprint\u001b[0m\u001b[0;34m(\u001b[0m\u001b[0munique_ips\u001b[0m\u001b[0;34m[\u001b[0m\u001b[0;36m0\u001b[0m\u001b[0;34m]\u001b[0m\u001b[0;34m[\u001b[0m\u001b[0;36m0\u001b[0m\u001b[0;34m]\u001b[0m\u001b[0;34m)\u001b[0m\u001b[0;34m\u001b[0m\u001b[0m\n\u001b[0;32m----> 3\u001b[0;31m \u001b[0msocket\u001b[0m\u001b[0;34m.\u001b[0m\u001b[0mgethostbyaddr\u001b[0m\u001b[0;34m(\u001b[0m\u001b[0munique_ips\u001b[0m\u001b[0;34m[\u001b[0m\u001b[0;36m0\u001b[0m\u001b[0;34m]\u001b[0m\u001b[0;34m[\u001b[0m\u001b[0;36m1\u001b[0m\u001b[0;34m]\u001b[0m\u001b[0;34m)\u001b[0m\u001b[0;34m\u001b[0m\u001b[0m\n\u001b[0m\u001b[1;32m      4\u001b[0m \u001b[0mprint\u001b[0m\u001b[0;34m(\u001b[0m\u001b[0munique_ips\u001b[0m\u001b[0;34m[\u001b[0m\u001b[0;36m0\u001b[0m\u001b[0;34m]\u001b[0m\u001b[0;34m[\u001b[0m\u001b[0;36m1\u001b[0m\u001b[0;34m]\u001b[0m\u001b[0;34m)\u001b[0m\u001b[0;34m\u001b[0m\u001b[0m\n\u001b[1;32m      5\u001b[0m \u001b[0mprint\u001b[0m\u001b[0;34m(\u001b[0m\u001b[0munique_ips\u001b[0m\u001b[0;34m[\u001b[0m\u001b[0;36m0\u001b[0m\u001b[0;34m]\u001b[0m\u001b[0;34m[\u001b[0m\u001b[0;36m3\u001b[0m\u001b[0;34m]\u001b[0m\u001b[0;34m)\u001b[0m\u001b[0;34m\u001b[0m\u001b[0m\n",
      "\u001b[0;31mherror\u001b[0m: [Errno 1] Unknown host"
     ]
    }
   ],
   "source": [
    "import socket\n",
    "print(unique_ips[0][0])\n",
    "socket.gethostbyaddr(unique_ips[0][1])\n",
    "print(unique_ips[0][1])\n",
    "print(unique_ips[0][3])"
   ]
  },
  {
   "cell_type": "code",
   "execution_count": 68,
   "metadata": {
    "collapsed": false
   },
   "outputs": [
    {
     "name": "stdout",
     "output_type": "stream",
     "text": [
      "Error while resolvingIP\n"
     ]
    }
   ],
   "source": [
    "try:\n",
    "    print(socket.gethostbyaddr(unique_ips[0][1])[0])\n",
    "except:\n",
    "    print(\"Error while resolvingIP\")"
   ]
  },
  {
   "cell_type": "code",
   "execution_count": 47,
   "metadata": {
    "collapsed": false
   },
   "outputs": [
    {
     "name": "stdout",
     "output_type": "stream",
     "text": [
      "1392\n"
     ]
    }
   ],
   "source": [
    "print(len(unique_ips))"
   ]
  },
  {
   "cell_type": "code",
   "execution_count": null,
   "metadata": {
    "collapsed": false
   },
   "outputs": [
    {
     "name": "stdout",
     "output_type": "stream",
     "text": [
      "4a.dc.5546.static.theplanet.com\n",
      "Error while resolvingIP\n",
      "stun.veoh.com\n",
      "Error while resolvingIP\n",
      "Error while resolvingIP\n",
      "Error while resolvingIP\n",
      "voipstun.aebc.ca\n",
      "Error while resolvingIP\n",
      "Error while resolvingIP\n",
      "Error while resolvingIP\n",
      "stun.voip.thw.gradwell.net\n",
      "stun1.node4.co.uk\n",
      "mail.tlssip.com\n",
      "stun.nas.net\n",
      "Error while resolvingIP\n",
      "Error while resolvingIP\n",
      "Error while resolvingIP\n",
      "Error while resolvingIP\n",
      "Error while resolvingIP\n",
      "ec2-52-202-62-236.compute-1.amazonaws.com\n",
      "www-was-2.salesforce.com\n",
      "Error while resolvingIP\n",
      "Error while resolvingIP\n",
      "Error while resolvingIP\n",
      "Error while resolvingIP\n",
      "Error while resolvingIP\n",
      "ec2-52-202-62-235.compute-1.amazonaws.com\n",
      "Error while resolvingIP\n",
      "Error while resolvingIP\n",
      "Error while resolvingIP\n",
      "broadcasthost\n",
      "yk-in-f125.1e100.net\n",
      "Error while resolvingIP\n",
      "Error while resolvingIP\n",
      "Error while resolvingIP\n",
      "Error while resolvingIP\n",
      "Error while resolvingIP\n",
      "Error while resolvingIP\n",
      "Error while resolvingIP\n",
      "www-was-1.salesforce.com\n",
      "Error while resolvingIP\n",
      "a-sac.aa.online-metrix.net\n",
      "Error while resolvingIP\n",
      "Error while resolvingIP\n",
      "Error while resolvingIP\n",
      "Error while resolvingIP\n",
      "stun.node4.co.uk\n",
      "Error while resolvingIP\n",
      "Error while resolvingIP\n",
      "Error while resolvingIP\n",
      "Error while resolvingIP\n",
      "ec2-54-225-164-192.compute-1.amazonaws.com\n",
      "Error while resolvingIP\n",
      "Error while resolvingIP\n",
      "Error while resolvingIP\n",
      "Error while resolvingIP\n",
      "Error while resolvingIP\n",
      "Error while resolvingIP\n",
      "Error while resolvingIP\n",
      "Error while resolvingIP\n",
      "Error while resolvingIP\n",
      "Error while resolvingIP\n",
      "a-0011.a-msedge.net\n",
      "Error while resolvingIP\n",
      "Error while resolvingIP\n",
      "Error while resolvingIP\n",
      "Error while resolvingIP\n",
      "Error while resolvingIP\n"
     ]
    }
   ],
   "source": [
    "for i in range(len(unique_ips)):\n",
    "    try:\n",
    "        print(socket.gethostbyaddr(unique_ips[0][i])[0])\n",
    "    except:\n",
    "        print(\"Error while resolvingIP\")\n",
    "    "
   ]
  },
  {
   "cell_type": "code",
   "execution_count": 64,
   "metadata": {
    "collapsed": false
   },
   "outputs": [
    {
     "name": "stdout",
     "output_type": "stream",
     "text": [
      "IP: 98.67.194.58 is NOT listed in zen.spamhaus.org\n",
      "IP: 98.67.194.58 is NOT listed in spam.abuse.ch\n",
      "IP: 98.67.194.58 is NOT listed in cbl.abuseat.org\n",
      "IP: 98.67.194.58 is NOT listed in virbl.dnsbl.bit.nl\n",
      "IP: 98.67.194.58 is NOT listed in dnsbl.inps.de\n",
      "IP: 98.67.194.58 is NOT listed in ix.dnsbl.manitu.net\n",
      "IP: 98.67.194.58 is NOT listed in dnsbl.sorbs.net\n",
      "IP: 98.67.194.58 is NOT listed in bl.spamcannibal.org\n",
      "IP: 98.67.194.58 is NOT listed in bl.spamcop.net\n",
      "IP: 98.67.194.58 is NOT listed in xbl.spamhaus.org\n",
      "IP: 98.67.194.58 is NOT listed in pbl.spamhaus.org\n",
      "IP: 98.67.194.58 is NOT listed in dnsbl-1.uceprotect.net\n",
      "IP: 98.67.194.58 is NOT listed in dnsbl-2.uceprotect.net\n",
      "IP: 98.67.194.58 is NOT listed in dnsbl-3.uceprotect.net\n",
      "IP: 98.67.194.58 is NOT listed in db.wpbl.info\n"
     ]
    }
   ],
   "source": [
    "import dns.resolver\n",
    "import sys\n",
    "\n",
    "def checkIP(bls, myIP):\n",
    "    for bl in bls:\n",
    "        try:\n",
    "            my_resolver = dns.resolver.Resolver()\n",
    "            query = '.'.join(reversed(str(myIP).split(\".\"))) + \".\" + bl\n",
    "            answers = my_resolver.query(query, \"A\")\n",
    "            answer_txt = my_resolver.query(query, \"TXT\")\n",
    "            print ('IP: %s IS listed in %s (%s: %s)' %(myIP, bl, answers[0], answer_txt[0]))\n",
    "        except dns.resolver.NXDOMAIN:\n",
    "            print ('IP: %s is NOT listed in %s' %(myIP, bl))\n",
    "        \n",
    "    \n",
    "bls = [\"zen.spamhaus.org\", \"spam.abuse.ch\", \"cbl.abuseat.org\", \"virbl.dnsbl.bit.nl\", \"dnsbl.inps.de\", \n",
    "    \"ix.dnsbl.manitu.net\", \"dnsbl.sorbs.net\", \"bl.spamcannibal.org\", \"bl.spamcop.net\", \n",
    "    \"xbl.spamhaus.org\", \"pbl.spamhaus.org\", \"dnsbl-1.uceprotect.net\", \"dnsbl-2.uceprotect.net\", \n",
    "    \"dnsbl-3.uceprotect.net\", \"db.wpbl.info\"]\n",
    " \n",
    "checkIP(bls, \"98.67.194.58\")"
   ]
  },
  {
   "cell_type": "code",
   "execution_count": null,
   "metadata": {
    "collapsed": true
   },
   "outputs": [],
   "source": []
  }
 ],
 "metadata": {
  "kernelspec": {
   "display_name": "Python 3",
   "language": "python",
   "name": "python3"
  },
  "language_info": {
   "codemirror_mode": {
    "name": "ipython",
    "version": 3
   },
   "file_extension": ".py",
   "mimetype": "text/x-python",
   "name": "python",
   "nbconvert_exporter": "python",
   "pygments_lexer": "ipython3",
   "version": "3.5.3"
  }
 },
 "nbformat": 4,
 "nbformat_minor": 2
}
