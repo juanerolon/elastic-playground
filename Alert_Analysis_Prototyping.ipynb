{
 "cells": [
  {
   "cell_type": "code",
   "execution_count": 93,
   "metadata": {
    "collapsed": true
   },
   "outputs": [],
   "source": [
    "#Standard ipython notebook\n",
    "from importlib.machinery import SourceFileLoader\n",
    "import os\n",
    "import numpy as np\n",
    "import pandas as pd\n",
    "import json\n",
    "import csv\n",
    "import nltk\n",
    "import matplotlib.pyplot as plt\n",
    "from IPython.display import display # Allows the use of display() for DataFrames"
   ]
  },
  {
   "cell_type": "code",
   "execution_count": 89,
   "metadata": {
    "collapsed": false
   },
   "outputs": [
    {
     "name": "stdout",
     "output_type": "stream",
     "text": [
      "Datasets PATH = /Users/juanerolon/Dropbox/_github/gits/elastic-playground/datasets/\n",
      "Utilities PATH = /Users/juanerolon/Dropbox/_github/gits/elastic-playground/datasets/\n"
     ]
    }
   ],
   "source": [
    "cwd = os.getcwd()\n",
    "#Assume datasets folder is containd within the working directory of this ipython notebook\n",
    "datasets_path = cwd + '/datasets/'\n",
    "\n",
    "#Assume utilities folder is contained within the working directory of this ipython notebook\n",
    "utilities_path = cwd + '/utilities/'\n",
    "txt = SourceFileLoader(\"text_utils\",  utilities_path +\"text_utils.py\").load_module()\n",
    "gut = SourceFileLoader(\"graph_utils\", utilities_path + \"graph_utils.py\").load_module()\n",
    "\n",
    "print(\"Datasets PATH = {}\".format(datasets_path))\n",
    "print(\"Utilities PATH = {}\".format(datasets_path))"
   ]
  },
  {
   "cell_type": "code",
   "execution_count": 91,
   "metadata": {
    "collapsed": false
   },
   "outputs": [
    {
     "name": "stdout",
     "output_type": "stream",
     "text": [
      "All labels in data:\n",
      "\n"
     ]
    },
    {
     "data": {
      "text/plain": [
       "['alert.category',\n",
       " 'alert.action',\n",
       " 'alert.signature_id',\n",
       " 'client_name',\n",
       " 'geoip.country_name',\n",
       " 'geoip.region_name',\n",
       " 'src_ip',\n",
       " 'dest_ip',\n",
       " 'src_port',\n",
       " 'dest_port',\n",
       " 'log_source',\n",
       " 'packet']"
      ]
     },
     "metadata": {},
     "output_type": "display_data"
    },
    {
     "name": "stdout",
     "output_type": "stream",
     "text": [
      "\n",
      "Index(['August 1st 2018, 23:59:56.883', 'August 1st 2018, 23:59:56.868',\n",
      "       'August 1st 2018, 23:59:56.868', 'August 1st 2018, 23:59:56.815',\n",
      "       'August 1st 2018, 23:59:56.141', 'August 1st 2018, 23:59:56.112',\n",
      "       'August 1st 2018, 23:59:56.035', 'August 1st 2018, 23:59:56.010',\n",
      "       'August 1st 2018, 23:59:55.648', 'August 1st 2018, 23:59:55.619',\n",
      "       ...\n",
      "       'August 1st 2018, 19:47:06.334', 'August 1st 2018, 19:47:06.321',\n",
      "       'August 1st 2018, 19:47:06.084', 'August 1st 2018, 19:47:06.000',\n",
      "       'August 1st 2018, 19:47:04.888', 'August 1st 2018, 19:47:04.661',\n",
      "       'August 1st 2018, 19:47:04.651', 'August 1st 2018, 19:47:04.414',\n",
      "       'August 1st 2018, 19:47:04.279', 'August 1st 2018, 19:47:04.158'],\n",
      "      dtype='object', name='@timestamp', length=27160)\n"
     ]
    }
   ],
   "source": [
    "full_data = pd.read_csv(datasets_path + 'search_logs_1_large.csv',index_col=0)\n",
    "\n",
    "data_cols = list(full_data.columns)\n",
    "print(\"All labels in data:\\n\")\n",
    "display(data_cols)\n",
    "print(\"\")\n",
    "print(full_data.index)"
   ]
  },
  {
   "cell_type": "code",
   "execution_count": 86,
   "metadata": {
    "collapsed": false,
    "scrolled": true
   },
   "outputs": [
    {
     "data": {
      "text/html": [
       "<div>\n",
       "<style>\n",
       "    .dataframe thead tr:only-child th {\n",
       "        text-align: right;\n",
       "    }\n",
       "\n",
       "    .dataframe thead th {\n",
       "        text-align: left;\n",
       "    }\n",
       "\n",
       "    .dataframe tbody tr th {\n",
       "        vertical-align: top;\n",
       "    }\n",
       "</style>\n",
       "<table border=\"1\" class=\"dataframe\">\n",
       "  <thead>\n",
       "    <tr style=\"text-align: right;\">\n",
       "      <th></th>\n",
       "      <th>alert.category</th>\n",
       "      <th>alert.action</th>\n",
       "      <th>alert.signature_id</th>\n",
       "      <th>client_name</th>\n",
       "      <th>geoip.country_name</th>\n",
       "      <th>geoip.region_name</th>\n",
       "      <th>src_ip</th>\n",
       "      <th>dest_ip</th>\n",
       "      <th>src_port</th>\n",
       "      <th>dest_port</th>\n",
       "      <th>log_source</th>\n",
       "      <th>packet</th>\n",
       "    </tr>\n",
       "    <tr>\n",
       "      <th>@timestamp</th>\n",
       "      <th></th>\n",
       "      <th></th>\n",
       "      <th></th>\n",
       "      <th></th>\n",
       "      <th></th>\n",
       "      <th></th>\n",
       "      <th></th>\n",
       "      <th></th>\n",
       "      <th></th>\n",
       "      <th></th>\n",
       "      <th></th>\n",
       "      <th></th>\n",
       "    </tr>\n",
       "  </thead>\n",
       "  <tbody>\n",
       "    <tr>\n",
       "      <th>August 1st 2018, 23:59:56.883</th>\n",
       "      <td>Attempted User Privilege Gain</td>\n",
       "      <td>allowed</td>\n",
       "      <td>2016149</td>\n",
       "      <td>care</td>\n",
       "      <td>United States</td>\n",
       "      <td>Texas</td>\n",
       "      <td>10.1.104.149</td>\n",
       "      <td>70.85.220.74</td>\n",
       "      <td>50646</td>\n",
       "      <td>3478</td>\n",
       "      <td>suricata</td>\n",
       "      <td>vBZlHoECaL2r131CCABFAAAwbKgAAH4ROt8KAWiVRlXcSs...</td>\n",
       "    </tr>\n",
       "    <tr>\n",
       "      <th>...</th>\n",
       "      <td>...</td>\n",
       "      <td>...</td>\n",
       "      <td>...</td>\n",
       "      <td>...</td>\n",
       "      <td>...</td>\n",
       "      <td>...</td>\n",
       "      <td>...</td>\n",
       "      <td>...</td>\n",
       "      <td>...</td>\n",
       "      <td>...</td>\n",
       "      <td>...</td>\n",
       "      <td>...</td>\n",
       "    </tr>\n",
       "    <tr>\n",
       "      <th>August 1st 2018, 19:47:04.158</th>\n",
       "      <td>Potentially Bad Traffic</td>\n",
       "      <td>allowed</td>\n",
       "      <td>2025711</td>\n",
       "      <td>care</td>\n",
       "      <td>NaN</td>\n",
       "      <td>NaN</td>\n",
       "      <td>10.1.130.30</td>\n",
       "      <td>10.180.101.85</td>\n",
       "      <td>52959</td>\n",
       "      <td>445</td>\n",
       "      <td>suricata</td>\n",
       "      <td>1L7ZNIzXCFsOppGwCABFAAEMc8sAAH0GzPgKAYIeCrRlVc...</td>\n",
       "    </tr>\n",
       "  </tbody>\n",
       "</table>\n",
       "<p>27160 rows × 12 columns</p>\n",
       "</div>"
      ],
      "text/plain": [
       "                                              alert.category alert.action  \\\n",
       "@timestamp                                                                  \n",
       "August 1st 2018, 23:59:56.883  Attempted User Privilege Gain      allowed   \n",
       "...                                                      ...          ...   \n",
       "August 1st 2018, 19:47:04.158        Potentially Bad Traffic      allowed   \n",
       "\n",
       "                               alert.signature_id client_name  \\\n",
       "@timestamp                                                      \n",
       "August 1st 2018, 23:59:56.883             2016149        care   \n",
       "...                                           ...         ...   \n",
       "August 1st 2018, 19:47:04.158             2025711        care   \n",
       "\n",
       "                              geoip.country_name geoip.region_name  \\\n",
       "@timestamp                                                           \n",
       "August 1st 2018, 23:59:56.883      United States             Texas   \n",
       "...                                          ...               ...   \n",
       "August 1st 2018, 19:47:04.158                NaN               NaN   \n",
       "\n",
       "                                     src_ip        dest_ip  src_port  \\\n",
       "@timestamp                                                             \n",
       "August 1st 2018, 23:59:56.883  10.1.104.149   70.85.220.74     50646   \n",
       "...                                     ...            ...       ...   \n",
       "August 1st 2018, 19:47:04.158   10.1.130.30  10.180.101.85     52959   \n",
       "\n",
       "                               dest_port log_source  \\\n",
       "@timestamp                                            \n",
       "August 1st 2018, 23:59:56.883       3478   suricata   \n",
       "...                                  ...        ...   \n",
       "August 1st 2018, 19:47:04.158        445   suricata   \n",
       "\n",
       "                                                                          packet  \n",
       "@timestamp                                                                        \n",
       "August 1st 2018, 23:59:56.883  vBZlHoECaL2r131CCABFAAAwbKgAAH4ROt8KAWiVRlXcSs...  \n",
       "...                                                                          ...  \n",
       "August 1st 2018, 19:47:04.158  1L7ZNIzXCFsOppGwCABFAAEMc8sAAH0GzPgKAYIeCrRlVc...  \n",
       "\n",
       "[27160 rows x 12 columns]"
      ]
     },
     "metadata": {},
     "output_type": "display_data"
    }
   ],
   "source": [
    "display(full_data)"
   ]
  },
  {
   "cell_type": "code",
   "execution_count": 92,
   "metadata": {
    "collapsed": false
   },
   "outputs": [
    {
     "name": "stdout",
     "output_type": "stream",
     "text": [
      "\n",
      "Dataframe column names:\n",
      "\n",
      "alert.category\n",
      "alert.action\n",
      "alert.signature_id\n",
      "client_name\n",
      "geoip.country_name\n",
      "geoip.region_name\n",
      "src_ip\n",
      "dest_ip\n",
      "src_port\n",
      "dest_port\n",
      "log_source\n",
      "packet\n",
      "\n",
      "Dataframe head:\n",
      "\n",
      "                                              alert.category alert.action  \\\n",
      "@timestamp                                                                  \n",
      "August 1st 2018, 23:59:56.883  Attempted User Privilege Gain      allowed   \n",
      "August 1st 2018, 23:59:56.868  Attempted User Privilege Gain      allowed   \n",
      "\n",
      "                               alert.signature_id client_name  \\\n",
      "@timestamp                                                      \n",
      "August 1st 2018, 23:59:56.883             2016149        care   \n",
      "August 1st 2018, 23:59:56.868             2016150        care   \n",
      "\n",
      "                              geoip.country_name geoip.region_name  \\\n",
      "@timestamp                                                           \n",
      "August 1st 2018, 23:59:56.883      United States             Texas   \n",
      "August 1st 2018, 23:59:56.868      United States          Virginia   \n",
      "\n",
      "                                       src_ip       dest_ip  src_port  \\\n",
      "@timestamp                                                              \n",
      "August 1st 2018, 23:59:56.883    10.1.104.149  70.85.220.74     50646   \n",
      "August 1st 2018, 23:59:56.868  69.167.127.106  10.1.104.149      3478   \n",
      "\n",
      "                               dest_port log_source  \\\n",
      "@timestamp                                            \n",
      "August 1st 2018, 23:59:56.883       3478   suricata   \n",
      "August 1st 2018, 23:59:56.868      50646   suricata   \n",
      "\n",
      "                                                                          packet  \n",
      "@timestamp                                                                        \n",
      "August 1st 2018, 23:59:56.883  vBZlHoECaL2r131CCABFAAAwbKgAAH4ROt8KAWiVRlXcSs...  \n",
      "August 1st 2018, 23:59:56.868  aL2r131CvBZlHoECCABFaAB0AABAADcRC2pFp39qCgFolQ...  \n",
      "\n",
      "Dataframe description:\n",
      "\n",
      "       alert.signature_id  src_port  dest_port\n",
      "count             27160.0   27160.0    27160.0\n",
      "...                   ...       ...        ...\n",
      "max             2500034.0   65535.0    65524.0\n",
      "\n",
      "[8 rows x 3 columns]\n"
     ]
    }
   ],
   "source": [
    "txt.describe_df(full_data, n=2, cols=True, header=True, descr=True)"
   ]
  },
  {
   "cell_type": "code",
   "execution_count": 14,
   "metadata": {
    "collapsed": false
   },
   "outputs": [
    {
     "data": {
      "text/plain": [
       "array(['10.1.104.149', '69.167.127.106', '77.72.169.210', ...,\n",
       "       '192.229.163.180', '52.14.242.2', '74.125.200.94'], dtype=object)"
      ]
     },
     "metadata": {},
     "output_type": "display_data"
    }
   ],
   "source": [
    "pd.set_option('display.max_rows', 3)\n",
    "display(full)"
   ]
  },
  {
   "cell_type": "code",
   "execution_count": 19,
   "metadata": {
    "collapsed": false
   },
   "outputs": [],
   "source": [
    "unique_ips = pd.DataFrame(full_data['src_ip'].unique())"
   ]
  },
  {
   "cell_type": "code",
   "execution_count": 65,
   "metadata": {
    "collapsed": true
   },
   "outputs": [],
   "source": [
    "unique_ips = pd.DataFrame(full_data['dest_ip'].unique())"
   ]
  },
  {
   "cell_type": "code",
   "execution_count": 66,
   "metadata": {
    "collapsed": false
   },
   "outputs": [
    {
     "data": {
      "text/plain": [
       "<bound method DataFrame.count of                   0\n",
       "0      70.85.220.74\n",
       "...             ...\n",
       "1327  74.125.200.94\n",
       "\n",
       "[1328 rows x 1 columns]>"
      ]
     },
     "metadata": {},
     "output_type": "display_data"
    }
   ],
   "source": [
    "display(unique_ips.count)"
   ]
  },
  {
   "cell_type": "code",
   "execution_count": 67,
   "metadata": {
    "collapsed": true
   },
   "outputs": [
    {
     "name": "stdout",
     "output_type": "stream",
     "text": [
      "70.85.220.74\n"
     ]
    },
    {
     "ename": "herror",
     "evalue": "[Errno 1] Unknown host",
     "output_type": "error",
     "traceback": [
      "\u001b[0;31m---------------------------------------------------------------------------\u001b[0m",
      "\u001b[0;31mherror\u001b[0m                                    Traceback (most recent call last)",
      "\u001b[0;32m<ipython-input-67-7a4fca9df03b>\u001b[0m in \u001b[0;36m<module>\u001b[0;34m()\u001b[0m\n\u001b[1;32m      1\u001b[0m \u001b[0;32mimport\u001b[0m \u001b[0msocket\u001b[0m\u001b[0;34m\u001b[0m\u001b[0m\n\u001b[1;32m      2\u001b[0m \u001b[0mprint\u001b[0m\u001b[0;34m(\u001b[0m\u001b[0munique_ips\u001b[0m\u001b[0;34m[\u001b[0m\u001b[0;36m0\u001b[0m\u001b[0;34m]\u001b[0m\u001b[0;34m[\u001b[0m\u001b[0;36m0\u001b[0m\u001b[0;34m]\u001b[0m\u001b[0;34m)\u001b[0m\u001b[0;34m\u001b[0m\u001b[0m\n\u001b[0;32m----> 3\u001b[0;31m \u001b[0msocket\u001b[0m\u001b[0;34m.\u001b[0m\u001b[0mgethostbyaddr\u001b[0m\u001b[0;34m(\u001b[0m\u001b[0munique_ips\u001b[0m\u001b[0;34m[\u001b[0m\u001b[0;36m0\u001b[0m\u001b[0;34m]\u001b[0m\u001b[0;34m[\u001b[0m\u001b[0;36m1\u001b[0m\u001b[0;34m]\u001b[0m\u001b[0;34m)\u001b[0m\u001b[0;34m\u001b[0m\u001b[0m\n\u001b[0m\u001b[1;32m      4\u001b[0m \u001b[0mprint\u001b[0m\u001b[0;34m(\u001b[0m\u001b[0munique_ips\u001b[0m\u001b[0;34m[\u001b[0m\u001b[0;36m0\u001b[0m\u001b[0;34m]\u001b[0m\u001b[0;34m[\u001b[0m\u001b[0;36m1\u001b[0m\u001b[0;34m]\u001b[0m\u001b[0;34m)\u001b[0m\u001b[0;34m\u001b[0m\u001b[0m\n\u001b[1;32m      5\u001b[0m \u001b[0mprint\u001b[0m\u001b[0;34m(\u001b[0m\u001b[0munique_ips\u001b[0m\u001b[0;34m[\u001b[0m\u001b[0;36m0\u001b[0m\u001b[0;34m]\u001b[0m\u001b[0;34m[\u001b[0m\u001b[0;36m3\u001b[0m\u001b[0;34m]\u001b[0m\u001b[0;34m)\u001b[0m\u001b[0;34m\u001b[0m\u001b[0m\n",
      "\u001b[0;31mherror\u001b[0m: [Errno 1] Unknown host"
     ]
    }
   ],
   "source": [
    "import socket\n",
    "print(unique_ips[0][0])\n",
    "socket.gethostbyaddr(unique_ips[0][1])\n",
    "print(unique_ips[0][1])\n",
    "print(unique_ips[0][3])"
   ]
  },
  {
   "cell_type": "code",
   "execution_count": 68,
   "metadata": {
    "collapsed": false
   },
   "outputs": [
    {
     "name": "stdout",
     "output_type": "stream",
     "text": [
      "Error while resolvingIP\n"
     ]
    }
   ],
   "source": [
    "try:\n",
    "    print(socket.gethostbyaddr(unique_ips[0][1])[0])\n",
    "except:\n",
    "    print(\"Error while resolvingIP\")"
   ]
  },
  {
   "cell_type": "code",
   "execution_count": 47,
   "metadata": {
    "collapsed": false
   },
   "outputs": [
    {
     "name": "stdout",
     "output_type": "stream",
     "text": [
      "1392\n"
     ]
    }
   ],
   "source": [
    "print(len(unique_ips))"
   ]
  },
  {
   "cell_type": "code",
   "execution_count": 69,
   "metadata": {
    "collapsed": false
   },
   "outputs": [
    {
     "name": "stdout",
     "output_type": "stream",
     "text": [
      "4a.dc.5546.static.theplanet.com\n",
      "Error while resolvingIP\n",
      "stun.veoh.com\n",
      "Error while resolvingIP\n",
      "Error while resolvingIP\n",
      "Error while resolvingIP\n",
      "voipstun.aebc.ca\n",
      "Error while resolvingIP\n",
      "Error while resolvingIP\n",
      "Error while resolvingIP\n",
      "stun.voip.thw.gradwell.net\n",
      "stun1.node4.co.uk\n",
      "mail.tlssip.com\n",
      "stun.nas.net\n",
      "Error while resolvingIP\n",
      "Error while resolvingIP\n",
      "Error while resolvingIP\n",
      "Error while resolvingIP\n",
      "Error while resolvingIP\n",
      "ec2-52-202-62-236.compute-1.amazonaws.com\n",
      "www-was-2.salesforce.com\n",
      "Error while resolvingIP\n",
      "Error while resolvingIP\n",
      "Error while resolvingIP\n",
      "Error while resolvingIP\n",
      "Error while resolvingIP\n",
      "ec2-52-202-62-235.compute-1.amazonaws.com\n",
      "Error while resolvingIP\n",
      "Error while resolvingIP\n",
      "Error while resolvingIP\n",
      "broadcasthost\n",
      "yk-in-f125.1e100.net\n",
      "Error while resolvingIP\n",
      "Error while resolvingIP\n",
      "Error while resolvingIP\n",
      "Error while resolvingIP\n",
      "Error while resolvingIP\n",
      "Error while resolvingIP\n",
      "Error while resolvingIP\n",
      "www-was-1.salesforce.com\n",
      "Error while resolvingIP\n",
      "a-sac.aa.online-metrix.net\n",
      "Error while resolvingIP\n",
      "Error while resolvingIP\n",
      "Error while resolvingIP\n",
      "Error while resolvingIP\n",
      "stun.node4.co.uk\n",
      "Error while resolvingIP\n",
      "Error while resolvingIP\n",
      "Error while resolvingIP\n",
      "Error while resolvingIP\n",
      "ec2-54-225-164-192.compute-1.amazonaws.com\n",
      "Error while resolvingIP\n",
      "Error while resolvingIP\n",
      "Error while resolvingIP\n",
      "Error while resolvingIP\n",
      "Error while resolvingIP\n",
      "Error while resolvingIP\n",
      "Error while resolvingIP\n",
      "Error while resolvingIP\n",
      "Error while resolvingIP\n",
      "Error while resolvingIP\n",
      "a-0011.a-msedge.net\n",
      "Error while resolvingIP\n",
      "Error while resolvingIP\n",
      "Error while resolvingIP\n",
      "Error while resolvingIP\n",
      "Error while resolvingIP\n",
      "ec2-52-71-49-60.compute-1.amazonaws.com\n",
      "Error while resolvingIP\n",
      "Error while resolvingIP\n",
      "Error while resolvingIP\n",
      "ec2-52-202-34-20.compute-1.amazonaws.com\n",
      "Error while resolvingIP\n",
      "Error while resolvingIP\n",
      "Error while resolvingIP\n",
      "Error while resolvingIP\n",
      "Error while resolvingIP\n",
      "Error while resolvingIP\n",
      "Error while resolvingIP\n",
      "a23-46-16-52.deploy.static.akamaitechnologies.com\n",
      "nycp-hlb14.doubleverify.com\n",
      "Error while resolvingIP\n",
      "Error while resolvingIP\n",
      "Error while resolvingIP\n",
      "Error while resolvingIP\n",
      "Error while resolvingIP\n",
      "Error while resolvingIP\n",
      "Error while resolvingIP\n",
      "sc.iasds01.com\n",
      "Error while resolvingIP\n",
      "Error while resolvingIP\n",
      "Error while resolvingIP\n",
      "Error while resolvingIP\n",
      "a23-196-35-51.deploy.static.akamaitechnologies.com\n",
      "Error while resolvingIP\n",
      "Error while resolvingIP\n",
      "server-52-84-74-186.atl52.r.cloudfront.net\n",
      "Error while resolvingIP\n",
      "Error while resolvingIP\n",
      "Error while resolvingIP\n",
      "Error while resolvingIP\n",
      "ec2-34-202-73-15.compute-1.amazonaws.com\n",
      "ec2-35-174-160-246.compute-1.amazonaws.com\n",
      "Error while resolvingIP\n",
      "Error while resolvingIP\n",
      "Error while resolvingIP\n",
      "Error while resolvingIP\n",
      "Error while resolvingIP\n",
      "Error while resolvingIP\n",
      "Error while resolvingIP\n",
      "Error while resolvingIP\n",
      "Error while resolvingIP\n",
      "Error while resolvingIP\n",
      "Error while resolvingIP\n",
      "Error while resolvingIP\n",
      "Error while resolvingIP\n",
      "Error while resolvingIP\n",
      "Error while resolvingIP\n",
      "Error while resolvingIP\n",
      "Error while resolvingIP\n",
      "Error while resolvingIP\n",
      "Error while resolvingIP\n",
      "ec2-34-204-119-51.compute-1.amazonaws.com\n",
      "Error while resolvingIP\n",
      "Error while resolvingIP\n",
      "Error while resolvingIP\n",
      "Error while resolvingIP\n",
      "Error while resolvingIP\n",
      "Error while resolvingIP\n",
      "Error while resolvingIP\n",
      "Error while resolvingIP\n",
      "Error while resolvingIP\n",
      "Error while resolvingIP\n",
      "Error while resolvingIP\n",
      "Error while resolvingIP\n",
      "computenode06.aap.com\n",
      "Error while resolvingIP\n",
      "Error while resolvingIP\n",
      "Error while resolvingIP\n",
      "Error while resolvingIP\n",
      "Error while resolvingIP\n",
      "wa-in-f93.1e100.net\n",
      "Error while resolvingIP\n",
      "Error while resolvingIP\n",
      "Error while resolvingIP\n",
      "Error while resolvingIP\n",
      "Error while resolvingIP\n",
      "Error while resolvingIP\n",
      "Error while resolvingIP\n",
      "Error while resolvingIP\n",
      "presentation-atl1.turn.com\n",
      "Error while resolvingIP\n",
      "Error while resolvingIP\n",
      "Error while resolvingIP\n",
      "Error while resolvingIP\n",
      "Error while resolvingIP\n",
      "ec2-54-208-236-253.compute-1.amazonaws.com\n",
      "Error while resolvingIP\n",
      "map2.hwcdn.net\n",
      "Error while resolvingIP\n",
      "Error while resolvingIP\n",
      "Error while resolvingIP\n",
      "Error while resolvingIP\n",
      "Error while resolvingIP\n",
      "sky700-1.mail.vip.ir2.yahoo.com\n",
      "Error while resolvingIP\n",
      "Error while resolvingIP\n",
      "Error while resolvingIP\n",
      "Error while resolvingIP\n",
      "Error while resolvingIP\n",
      "Error while resolvingIP\n",
      "Error while resolvingIP\n",
      "Error while resolvingIP\n",
      "Error while resolvingIP\n",
      "Error while resolvingIP\n",
      "Error while resolvingIP\n",
      "Error while resolvingIP\n",
      "webpooldb41e11.infra.lync.com\n",
      "Error while resolvingIP\n",
      "Error while resolvingIP\n",
      "Error while resolvingIP\n",
      "ec2-35-169-72-130.compute-1.amazonaws.com\n",
      "ec2-34-198-222-79.compute-1.amazonaws.com\n",
      "Error while resolvingIP\n",
      "Error while resolvingIP\n",
      "Error while resolvingIP\n",
      "Error while resolvingIP\n",
      "ec2-34-196-171-171.compute-1.amazonaws.com\n",
      "Error while resolvingIP\n",
      "Error while resolvingIP\n",
      "Error while resolvingIP\n",
      "Error while resolvingIP\n",
      "Error while resolvingIP\n",
      "Error while resolvingIP\n",
      "ec2-52-0-172-201.compute-1.amazonaws.com\n",
      "Error while resolvingIP\n",
      "Error while resolvingIP\n",
      "Error while resolvingIP\n",
      "Error while resolvingIP\n",
      "Error while resolvingIP\n",
      "Error while resolvingIP\n",
      "Error while resolvingIP\n",
      "Error while resolvingIP\n",
      "Error while resolvingIP\n",
      "Error while resolvingIP\n",
      "Error while resolvingIP\n",
      "Error while resolvingIP\n",
      "Error while resolvingIP\n",
      "Error while resolvingIP\n",
      "Error while resolvingIP\n",
      "Error while resolvingIP\n",
      "ec2-18-217-218-196.us-east-2.compute.amazonaws.com\n",
      "Error while resolvingIP\n",
      "a23-199-13-130.deploy.static.akamaitechnologies.com\n",
      "Error while resolvingIP\n",
      "Error while resolvingIP\n",
      "ox-173-241-244-220.lc.dc.openx.org\n",
      "Error while resolvingIP\n",
      "webpooldb41e12.infra.lync.com\n",
      "Error while resolvingIP\n",
      "Error while resolvingIP\n",
      "Error while resolvingIP\n",
      "Error while resolvingIP\n",
      "Error while resolvingIP\n",
      "Error while resolvingIP\n",
      "Error while resolvingIP\n",
      "Error while resolvingIP\n",
      "Error while resolvingIP\n",
      "ec2-54-241-215-175.us-west-1.compute.amazonaws.com\n",
      "Error while resolvingIP\n",
      "ec2-34-202-208-132.compute-1.amazonaws.com\n",
      "Error while resolvingIP\n",
      "208.185.50.80.ipyx-063360-004-zyo.zip.zayo.com\n",
      "Error while resolvingIP\n",
      "li1414-254.members.linode.com\n",
      "nycp-hlb16.doubleverify.com\n",
      "Error while resolvingIP\n",
      "server-52-84-74-67.atl52.r.cloudfront.net\n",
      "Error while resolvingIP\n",
      "Error while resolvingIP\n",
      "Error while resolvingIP\n",
      "Error while resolvingIP\n",
      "Error while resolvingIP\n",
      "Error while resolvingIP\n",
      "Error while resolvingIP\n",
      "Error while resolvingIP\n",
      "iad23s42-in-f10.1e100.net\n",
      "Error while resolvingIP\n",
      "Error while resolvingIP\n",
      "iad30s07-in-f238.1e100.net\n",
      "Error while resolvingIP\n",
      "Error while resolvingIP\n",
      "Error while resolvingIP\n",
      "Error while resolvingIP\n",
      "Error while resolvingIP\n",
      "Error while resolvingIP\n",
      "Error while resolvingIP\n",
      "Error while resolvingIP\n",
      "Error while resolvingIP\n",
      "Error while resolvingIP\n",
      "Error while resolvingIP\n",
      "ec2-52-55-182-21.compute-1.amazonaws.com\n",
      "nycp-hlb07.doubleverify.com\n",
      "Error while resolvingIP\n",
      "Error while resolvingIP\n",
      "Error while resolvingIP\n",
      "Error while resolvingIP\n",
      "Error while resolvingIP\n",
      "ovh-lb4.dginfra.net\n",
      "Error while resolvingIP\n",
      "Error while resolvingIP\n",
      "Error while resolvingIP\n",
      "Error while resolvingIP\n",
      "Error while resolvingIP\n",
      "Error while resolvingIP\n",
      "Error while resolvingIP\n",
      "Error while resolvingIP\n",
      "245.bm-nginx-loadbalancer.mgmt.nym2.adnexus.net\n",
      "Error while resolvingIP\n",
      "pool-100-15-187-96.washdc.fios.verizon.net\n",
      "Error while resolvingIP\n",
      "Error while resolvingIP\n",
      "ec2-52-4-158-146.compute-1.amazonaws.com\n",
      "Error while resolvingIP\n",
      "Error while resolvingIP\n",
      "Error while resolvingIP\n",
      "Error while resolvingIP\n",
      "Error while resolvingIP\n",
      "Error while resolvingIP\n",
      "Error while resolvingIP\n",
      "Error while resolvingIP\n",
      "a23-43-108-252.deploy.static.akamaitechnologies.com\n",
      "s3-1.amazonaws.com\n",
      "Error while resolvingIP\n",
      "Error while resolvingIP\n",
      "Error while resolvingIP\n",
      "200-215-108-114.cuace300.ipd.brasiltelecom.net.br\n",
      "Error while resolvingIP\n",
      "dcl4-phx.la1-c2-phx.salesforceliveagent.com\n",
      "Error while resolvingIP\n",
      "Error while resolvingIP\n",
      "Error while resolvingIP\n",
      "Error while resolvingIP\n",
      "Error while resolvingIP\n",
      "ox-173-241-244-143.lc.dc.openx.org\n",
      "Error while resolvingIP\n",
      "Error while resolvingIP\n",
      "Error while resolvingIP\n",
      "a23-3-165-114.deploy.static.akamaitechnologies.com\n",
      "Error while resolvingIP\n",
      "Error while resolvingIP\n",
      "nycp-hlb20.doubleverify.com\n",
      "Error while resolvingIP\n",
      "ec2-34-225-134-18.compute-1.amazonaws.com\n",
      "sec-tws-prod-vip.webex.com\n",
      "Error while resolvingIP\n",
      "Error while resolvingIP\n",
      "ec2-35-162-25-218.us-west-2.compute.amazonaws.com\n",
      "Error while resolvingIP\n",
      "upload-lb.eqiad.wikimedia.org\n",
      "Error while resolvingIP\n",
      "Error while resolvingIP\n",
      "Error while resolvingIP\n",
      "Error while resolvingIP\n",
      "Error while resolvingIP\n",
      "Error while resolvingIP\n",
      "ec2-52-44-81-245.compute-1.amazonaws.com\n",
      "Error while resolvingIP\n",
      "ec2-54-215-182-7.us-west-1.compute.amazonaws.com\n",
      "Error while resolvingIP\n",
      "Error while resolvingIP\n",
      "Error while resolvingIP\n",
      "sippooldb41e11.infra.lync.com\n",
      "Error while resolvingIP\n",
      "Error while resolvingIP\n",
      "Error while resolvingIP\n",
      "Error while resolvingIP\n",
      "Error while resolvingIP\n",
      "Error while resolvingIP\n",
      "Error while resolvingIP\n",
      "Error while resolvingIP\n",
      "Error while resolvingIP\n",
      "Error while resolvingIP\n",
      "Error while resolvingIP\n",
      "Error while resolvingIP\n",
      "Error while resolvingIP\n",
      "Error while resolvingIP\n",
      "Error while resolvingIP\n",
      "Error while resolvingIP\n",
      "Error while resolvingIP\n",
      "iad23s42-in-f14.1e100.net\n",
      "Error while resolvingIP\n",
      "ec2-34-236-82-148.compute-1.amazonaws.com\n",
      "ec2-52-45-123-185.compute-1.amazonaws.com\n",
      "Error while resolvingIP\n",
      "Error while resolvingIP\n",
      "Error while resolvingIP\n",
      "map-e2.pipelane.net\n",
      "Error while resolvingIP\n",
      "a23-212-111-187.deploy.static.akamaitechnologies.com\n",
      "Error while resolvingIP\n",
      "Error while resolvingIP\n",
      "Error while resolvingIP\n",
      "usdal4-vip-bx-010.aaplimg.com\n",
      "Error while resolvingIP\n",
      "ec2-52-0-89-96.compute-1.amazonaws.com\n",
      "Error while resolvingIP\n",
      "Error while resolvingIP\n",
      "ec2-34-228-134-125.compute-1.amazonaws.com\n",
      "Error while resolvingIP\n",
      "Error while resolvingIP\n",
      "cb-in-f188.1e100.net\n",
      "Error while resolvingIP\n",
      "Error while resolvingIP\n",
      "Error while resolvingIP\n",
      "Error while resolvingIP\n",
      "Error while resolvingIP\n",
      "Error while resolvingIP\n",
      "Error while resolvingIP\n",
      "Error while resolvingIP\n",
      "ec2-34-224-230-241.compute-1.amazonaws.com\n",
      "236.84.55.66.hosted.by.thegcloud.com\n",
      "server-52-84-133-92.atl52.r.cloudfront.net\n",
      "a23-13-210-186.deploy.static.akamaitechnologies.com\n",
      "Error while resolvingIP\n",
      "tlb.hwcdn.net\n",
      "Error while resolvingIP\n",
      "Error while resolvingIP\n",
      "Error while resolvingIP\n",
      "Error while resolvingIP\n",
      "Error while resolvingIP\n",
      "Error while resolvingIP\n",
      "Error while resolvingIP\n",
      "ec2-52-44-169-238.compute-1.amazonaws.com\n",
      "Error while resolvingIP\n",
      "Error while resolvingIP\n",
      "Error while resolvingIP\n",
      "Error while resolvingIP\n",
      "Error while resolvingIP\n",
      "Error while resolvingIP\n",
      "sky700-2.mail.vip.ir2.yahoo.com\n",
      "ec2-34-236-57-89.compute-1.amazonaws.com\n",
      "Error while resolvingIP\n",
      "Error while resolvingIP\n",
      "Error while resolvingIP\n",
      "ec2-18-208-239-144.compute-1.amazonaws.com\n",
      "Error while resolvingIP\n",
      "ec2-107-21-235-197.compute-1.amazonaws.com\n",
      "Error while resolvingIP\n",
      "usefashion.static.gvt.net.br\n",
      "Error while resolvingIP\n",
      "s3-us-west-2-r-w.amazonaws.com\n",
      "atl14s76-in-f1.1e100.net\n",
      "Error while resolvingIP\n",
      "Error while resolvingIP\n",
      "s.w.org\n",
      "Error while resolvingIP\n",
      "Error while resolvingIP\n",
      "vip052.ssl.hwcdn.net\n",
      "Error while resolvingIP\n",
      "nycp-hlb22.doubleverify.com\n",
      "135.bm-nginx-loadbalancer.mgmt.nym2.adnexus.net\n",
      "Error while resolvingIP\n",
      "Error while resolvingIP\n",
      "Error while resolvingIP\n",
      "Error while resolvingIP\n",
      "Error while resolvingIP\n",
      "Error while resolvingIP\n",
      "Error while resolvingIP\n",
      "253.182.199.104.bc.googleusercontent.com\n",
      "Error while resolvingIP\n",
      "Error while resolvingIP\n",
      "Error while resolvingIP\n",
      "sharept.ms\n",
      "Error while resolvingIP\n",
      "server-52-84-33-23.ewr50.r.cloudfront.net\n",
      "server-52-85-88-64.jfk6.r.cloudfront.net\n",
      "Error while resolvingIP\n",
      "Error while resolvingIP\n",
      "Error while resolvingIP\n",
      "Error while resolvingIP\n",
      "Error while resolvingIP\n",
      "Error while resolvingIP\n",
      "Error while resolvingIP\n",
      "Error while resolvingIP\n",
      "ec2-52-4-67-165.compute-1.amazonaws.com\n",
      "ec2-13-58-71-72.us-east-2.compute.amazonaws.com\n",
      "ec2-52-20-57-216.compute-1.amazonaws.com\n",
      "map2.hwcdn.net\n",
      "Error while resolvingIP\n",
      "ec2-52-209-124-253.eu-west-1.compute.amazonaws.com\n",
      "Error while resolvingIP\n",
      "Error while resolvingIP\n",
      "Error while resolvingIP\n",
      "a23-43-108-175.deploy.static.akamaitechnologies.com\n",
      "s3-us-west-2.amazonaws.com\n",
      "Error while resolvingIP\n",
      "Error while resolvingIP\n",
      "Error while resolvingIP\n",
      "ec2-34-238-15-184.compute-1.amazonaws.com\n",
      "Error while resolvingIP\n",
      "Error while resolvingIP\n",
      "Error while resolvingIP\n",
      "Error while resolvingIP\n",
      "Error while resolvingIP\n",
      "Error while resolvingIP\n",
      "Error while resolvingIP\n",
      "Error while resolvingIP\n",
      "Error while resolvingIP\n",
      "ec2-18-211-26-179.compute-1.amazonaws.com\n",
      "Error while resolvingIP\n",
      "Error while resolvingIP\n",
      "s3-us-west-2-r-w.amazonaws.com\n",
      "Error while resolvingIP\n",
      "a104-117-5-153.deploy.static.akamaitechnologies.com\n",
      "Error while resolvingIP\n",
      "Error while resolvingIP\n",
      "Error while resolvingIP\n",
      "Error while resolvingIP\n",
      "ec2-52-192-156-124.ap-northeast-1.compute.amazonaws.com\n",
      "a.tribalfusion.com\n",
      "msnbot-65-52-108-33.search.msn.com\n",
      "ip107.ip-92-222-198.eu\n",
      "Error while resolvingIP\n",
      "208.185.50.25.ipyx-063360-004-zyo.zip.zayo.com\n",
      "msnbot-64-4-54-18.search.msn.com\n",
      "Error while resolvingIP\n",
      "Error while resolvingIP\n",
      "213-155-156-182.customer.teliacarrier.com\n",
      "ec2-34-248-100-25.eu-west-1.compute.amazonaws.com\n",
      "mpr2.ngd.vip.bf1.yahoo.com\n",
      "Error while resolvingIP\n",
      "ec2-52-45-158-145.compute-1.amazonaws.com\n",
      "Error while resolvingIP\n",
      "ec2-54-77-47-219.eu-west-1.compute.amazonaws.com\n",
      "Error while resolvingIP\n",
      "Error while resolvingIP\n",
      "Error while resolvingIP\n",
      "Error while resolvingIP\n",
      "iad08-usadmm.dotomi.com\n",
      "msnbot-65-52-108-92.search.msn.com\n",
      "ec2-52-25-175-166.us-west-2.compute.amazonaws.com\n",
      "Error while resolvingIP\n",
      "a-0003.dc-msedge.net\n",
      "ec2-54-193-17-76.us-west-1.compute.amazonaws.com\n",
      "Error while resolvingIP\n",
      "Error while resolvingIP\n",
      "nycp-hlb21.doubleverify.com\n",
      "Error while resolvingIP\n",
      "415.bm-nginx-loadbalancer.mgmt.nym2.adnexus.net\n",
      "Error while resolvingIP\n",
      "ox-173-241-242-220.xv.dc.openx.org\n",
      "Error while resolvingIP\n",
      "ec2-52-8-138-67.us-west-1.compute.amazonaws.com\n",
      "ec2-18-233-51-11.compute-1.amazonaws.com\n",
      "ec2-34-234-134-91.compute-1.amazonaws.com\n",
      "ec2-54-158-61-48.compute-1.amazonaws.com\n",
      "ec2-52-73-137-201.compute-1.amazonaws.com\n",
      "Error while resolvingIP\n",
      "Error while resolvingIP\n",
      "Error while resolvingIP\n",
      "Error while resolvingIP\n",
      "Error while resolvingIP\n",
      "webpooldb40r04.infra.lync.com\n",
      "Error while resolvingIP\n",
      "Error while resolvingIP\n",
      "Error while resolvingIP\n",
      "Error while resolvingIP\n",
      "Error while resolvingIP\n",
      "Error while resolvingIP\n",
      "ec2-52-7-100-99.compute-1.amazonaws.com\n",
      "ec2-52-54-104-168.compute-1.amazonaws.com\n",
      "ec2-34-202-56-67.compute-1.amazonaws.com\n",
      "ec2-18-185-181-189.eu-central-1.compute.amazonaws.com\n",
      "473.bm-nginx-loadbalancer.mgmt.nym2.adnexus.net\n",
      "mpr1.ngd.vip.ne1.yahoo.com\n",
      "Error while resolvingIP\n",
      "Error while resolvingIP\n",
      "Error while resolvingIP\n",
      "Error while resolvingIP\n",
      "108.23.196.104.bc.googleusercontent.com\n",
      "Error while resolvingIP\n",
      "ec2-34-235-250-172.compute-1.amazonaws.com\n",
      "yv-in-f138.1e100.net\n",
      "Error while resolvingIP\n",
      "Error while resolvingIP\n",
      "465.bm-nginx-loadbalancer.mgmt.nym2.adnexus.net\n",
      "Error while resolvingIP\n",
      "Error while resolvingIP\n",
      "ec2-52-5-188-239.compute-1.amazonaws.com\n",
      "Error while resolvingIP\n",
      "sky400-2.mail.vip.bf2.yahoo.com\n",
      "Error while resolvingIP\n",
      "Error while resolvingIP\n",
      "Error while resolvingIP\n",
      "Error while resolvingIP\n",
      "iad30s08-in-f14.1e100.net\n",
      "ec2-52-72-172-113.compute-1.amazonaws.com\n",
      "Error while resolvingIP\n",
      "140.bm-nginx-loadbalancer.mgmt.nym2.adnexus.net\n",
      "ec2-50-18-173-139.us-west-1.compute.amazonaws.com\n",
      "ec2-34-234-149-11.compute-1.amazonaws.com\n",
      "ec2-52-6-190-160.compute-1.amazonaws.com\n",
      "ec2-54-80-58-40.compute-1.amazonaws.com\n",
      "ec2-54-229-124-187.eu-west-1.compute.amazonaws.com\n",
      "Error while resolvingIP\n",
      "Error while resolvingIP\n",
      "Error while resolvingIP\n",
      "mpr1.ngd.vip.bf1.yahoo.com\n",
      "ec2-184-73-200-17.compute-1.amazonaws.com\n",
      "Error while resolvingIP\n",
      "p1masterlb.uib.no\n",
      "ec2-13-56-83-82.us-west-1.compute.amazonaws.com\n",
      "Error while resolvingIP\n",
      "Error while resolvingIP\n",
      "472.bm-nginx-loadbalancer.mgmt.nym2.adnexus.net\n",
      "Error while resolvingIP\n",
      "yb-in-f94.1e100.net\n",
      "Error while resolvingIP\n",
      "Error while resolvingIP\n",
      "Error while resolvingIP\n",
      "ec2-52-58-15-133.eu-central-1.compute.amazonaws.com\n",
      "yb-in-f95.1e100.net\n",
      "Error while resolvingIP\n",
      "ec2-52-206-241-252.compute-1.amazonaws.com\n",
      "Error while resolvingIP\n",
      "Error while resolvingIP\n",
      "Error while resolvingIP\n",
      "ec2-54-86-66-248.compute-1.amazonaws.com\n",
      "ec2-35-170-85-225.compute-1.amazonaws.com\n",
      "Error while resolvingIP\n",
      "ec2-18-221-203-77.us-east-2.compute.amazonaws.com\n",
      "nycp-hlb13.doubleverify.com\n",
      "ec2-18-216-188-21.us-east-2.compute.amazonaws.com\n",
      "Error while resolvingIP\n",
      "Error while resolvingIP\n",
      "Error while resolvingIP\n",
      "Error while resolvingIP\n",
      "Error while resolvingIP\n",
      "Error while resolvingIP\n",
      "ec2-18-185-168-82.eu-central-1.compute.amazonaws.com\n",
      "Error while resolvingIP\n",
      "ip187.208-100-17.static.steadfastdns.net\n",
      "Error while resolvingIP\n",
      "Error while resolvingIP\n",
      "Error while resolvingIP\n",
      "nycp-hlb05.doubleverify.com\n",
      "server-54-230-52-33.jfk6.r.cloudfront.net\n",
      "Error while resolvingIP\n",
      "Error while resolvingIP\n",
      "Error while resolvingIP\n",
      "ec2-52-200-171-138.compute-1.amazonaws.com\n",
      "208.185.50.50.ipyx-063360-004-zyo.zip.zayo.com\n",
      "Error while resolvingIP\n",
      "ip-2.31-186-87-32.net.eco.atman.pl\n",
      "Error while resolvingIP\n",
      "ec2-50-19-84-14.compute-1.amazonaws.com\n",
      "g1c.v.fwmrm.net\n",
      "Error while resolvingIP\n",
      "Error while resolvingIP\n",
      "118.82.197.104.bc.googleusercontent.com\n",
      "Error while resolvingIP\n",
      "Error while resolvingIP\n",
      "Error while resolvingIP\n",
      "d3.26.559e.ip4.static.sl-reverse.com\n",
      "Error while resolvingIP\n",
      "s3-1-w.amazonaws.com\n",
      "ec2-35-172-13-145.compute-1.amazonaws.com\n",
      "Error while resolvingIP\n",
      "Error while resolvingIP\n",
      "s3-us-west-2-w.amazonaws.com\n",
      "map-e.pipelane.net\n",
      "a.tribalfusion.com\n",
      "a167.casalemedia.com\n",
      "Error while resolvingIP\n",
      "a23-6-77-74.deploy.static.akamaitechnologies.com\n",
      "Error while resolvingIP\n",
      "Error while resolvingIP\n",
      "iad30s21-in-f10.1e100.net\n",
      "s3-us-west-2.amazonaws.com\n",
      "ec2-35-170-166-128.compute-1.amazonaws.com\n",
      "ec2-34-252-245-53.eu-west-1.compute.amazonaws.com\n",
      "dcl1-phx.la1-c2-phx.salesforceliveagent.com\n",
      "Error while resolvingIP\n",
      "Error while resolvingIP\n",
      "Error while resolvingIP\n",
      "app.e2ma.net\n",
      "Error while resolvingIP\n",
      "Error while resolvingIP\n",
      "Error while resolvingIP\n",
      "Error while resolvingIP\n",
      "Error while resolvingIP\n",
      "Error while resolvingIP\n",
      "Error while resolvingIP\n",
      "Error while resolvingIP\n",
      "instagram-p15-shv-02-mia3.fbcdn.net\n",
      "ec2-52-207-2-94.compute-1.amazonaws.com\n",
      "Error while resolvingIP\n",
      "Error while resolvingIP\n",
      "Error while resolvingIP\n",
      "108-174-10-14.fwd.linkedin.com\n",
      "qb-in-f109.1e100.net\n",
      "iad30s07-in-f2.1e100.net\n",
      "a184-84-136-238.deploy.static.akamaitechnologies.com\n",
      "atl26s14-in-f19.1e100.net\n",
      "iad23s63-in-f14.1e100.net\n",
      "Error while resolvingIP\n",
      "ec2-54-225-168-34.compute-1.amazonaws.com\n",
      "Error while resolvingIP\n",
      "yb-in-f100.1e100.net\n",
      "Error while resolvingIP\n",
      "Error while resolvingIP\n",
      "466.bm-nginx-loadbalancer.mgmt.nym2.adnexus.net\n",
      "Error while resolvingIP\n",
      "Error while resolvingIP\n",
      "Error while resolvingIP\n",
      "Error while resolvingIP\n",
      "ec2-54-243-172-32.compute-1.amazonaws.com\n",
      "nycp-hlb18.doubleverify.com\n",
      "ec2-54-82-218-93.compute-1.amazonaws.com\n",
      "a23-43-109-198.deploy.static.akamaitechnologies.com\n",
      "ec2-34-225-236-206.compute-1.amazonaws.com\n",
      "Error while resolvingIP\n",
      "Error while resolvingIP\n",
      "server-52-85-89-9.jfk6.r.cloudfront.net\n",
      "a23-196-34-149.deploy.static.akamaitechnologies.com\n",
      "ec2-52-204-188-86.compute-1.amazonaws.com\n",
      "Error while resolvingIP\n",
      "Error while resolvingIP\n",
      "ec2-18-219-120-59.us-east-2.compute.amazonaws.com\n",
      "ec2-52-3-143-205.compute-1.amazonaws.com\n",
      "atl14s76-in-f10.1e100.net\n",
      "vip0x00f.map2.ssl.hwcdn.net\n",
      "dcl7-iad.login.salesforce.com\n",
      "ec2-54-243-245-131.compute-1.amazonaws.com\n",
      "dsp.adfarm1.adition.com\n",
      "ec2-54-235-184-49.compute-1.amazonaws.com\n",
      "Error while resolvingIP\n",
      "Error while resolvingIP\n",
      "a2.ue.vip.bf1.yahoo.net\n",
      "176.134.194.35.bc.googleusercontent.com\n",
      "ec2-107-23-218-112.compute-1.amazonaws.com\n",
      "ox-173-241-242-143.xv.dc.openx.org\n",
      "Error while resolvingIP\n",
      "Error while resolvingIP\n",
      "Error while resolvingIP\n",
      "s3-us-west-2.amazonaws.com\n",
      "Error while resolvingIP\n",
      "Error while resolvingIP\n",
      "Error while resolvingIP\n",
      "Error while resolvingIP\n",
      "ec2-52-7-214-163.compute-1.amazonaws.com\n",
      "server-52-84-133-244.atl52.r.cloudfront.net\n",
      "Error while resolvingIP\n",
      "Error while resolvingIP\n",
      "Error while resolvingIP\n",
      "Error while resolvingIP\n",
      "203-195-167-181.fibertel.com.ar\n",
      "s3-us-west-2.amazonaws.com\n",
      "64.125.223.109.ipyx-102636-002-zyo.zip.zayo.com\n",
      "Error while resolvingIP\n",
      "Error while resolvingIP\n",
      "Error while resolvingIP\n",
      "Error while resolvingIP\n",
      "server-52-84-33-138.ewr50.r.cloudfront.net\n",
      "Error while resolvingIP\n",
      "133.bm-nginx-loadbalancer.mgmt.nym2.adnexus.net\n",
      "Error while resolvingIP\n",
      "ec2-54-163-249-192.compute-1.amazonaws.com\n",
      "atl14s76-in-f14.1e100.net\n",
      "server-52-85-89-63.jfk6.r.cloudfront.net\n",
      "Error while resolvingIP\n",
      "nycp-hlb04.doubleverify.com\n",
      "Error while resolvingIP\n",
      "Error while resolvingIP\n",
      "Error while resolvingIP\n",
      "Error while resolvingIP\n",
      "Error while resolvingIP\n",
      "Error while resolvingIP\n",
      "Error while resolvingIP\n",
      "470.bm-nginx-loadbalancer.mgmt.nym2.adnexus.net\n",
      "Error while resolvingIP\n",
      "Error while resolvingIP\n",
      "ec2-18-234-18-129.compute-1.amazonaws.com\n",
      "Error while resolvingIP\n",
      "proxy0482.us3.dynfactory.com\n",
      "Error while resolvingIP\n",
      "Error while resolvingIP\n",
      "atl14s76-in-f3.1e100.net\n",
      "Error while resolvingIP\n",
      "Error while resolvingIP\n",
      "Error while resolvingIP\n",
      "Error while resolvingIP\n",
      "ec2-52-72-177-12.compute-1.amazonaws.com\n",
      "Error while resolvingIP\n",
      "Error while resolvingIP\n",
      "Error while resolvingIP\n",
      "Error while resolvingIP\n",
      "Error while resolvingIP\n",
      "ox-173-241-250-104.ca.dc.openx.org\n",
      "Error while resolvingIP\n",
      "server-52-84-33-240.ewr50.r.cloudfront.net\n",
      "Error while resolvingIP\n",
      "Error while resolvingIP\n",
      "ec2-52-89-13-91.us-west-2.compute.amazonaws.com\n",
      "Error while resolvingIP\n",
      "Error while resolvingIP\n",
      "Error while resolvingIP\n",
      "Error while resolvingIP\n",
      "Error while resolvingIP\n",
      "Error while resolvingIP\n",
      "Error while resolvingIP\n",
      "s3-us-west-2-w.amazonaws.com\n",
      "Error while resolvingIP\n",
      "ec2-52-25-168-34.us-west-2.compute.amazonaws.com\n",
      "ec2-52-49-211-202.eu-west-1.compute.amazonaws.com\n",
      "Error while resolvingIP\n",
      "Error while resolvingIP\n",
      "ec2-54-86-130-178.compute-1.amazonaws.com\n",
      "Error while resolvingIP\n",
      "ec2-54-76-78-105.eu-west-1.compute.amazonaws.com\n",
      "ec2-54-70-240-71.us-west-2.compute.amazonaws.com\n",
      "Error while resolvingIP\n",
      "nycp-hlb01.doubleverify.com\n",
      "Error while resolvingIP\n",
      "Error while resolvingIP\n",
      "Error while resolvingIP\n",
      "ec2-13-59-111-250.us-east-2.compute.amazonaws.com\n",
      "Error while resolvingIP\n",
      "Error while resolvingIP\n",
      "Error while resolvingIP\n",
      "Error while resolvingIP\n",
      "a104-91-77-229.deploy.static.akamaitechnologies.com\n",
      "Error while resolvingIP\n",
      "Error while resolvingIP\n",
      "ad.0f.9905.ip4.static.sl-reverse.com\n",
      "Error while resolvingIP\n",
      "Error while resolvingIP\n",
      "Error while resolvingIP\n",
      "atl14s77-in-f18.1e100.net\n",
      "Error while resolvingIP\n",
      "Error while resolvingIP\n",
      "server-52-84-33-191.ewr50.r.cloudfront.net\n",
      "174.140.253.67.rdns.colocationamerica.com\n",
      "198-72-114-197.iperceptions.com\n",
      "Error while resolvingIP\n",
      "Error while resolvingIP\n",
      "ec2-35-169-56-115.compute-1.amazonaws.com\n",
      "208.185.50.90.ipyx-063360-004-zyo.zip.zayo.com\n",
      "Error while resolvingIP\n",
      "Error while resolvingIP\n",
      "a-0001.a-msedge.net\n",
      "Error while resolvingIP\n",
      "a23-43-101-254.deploy.static.akamaitechnologies.com\n",
      "Error while resolvingIP\n",
      "Error while resolvingIP\n",
      "Error while resolvingIP\n",
      "93.92.100.173.cs.nl\n",
      "Error while resolvingIP\n",
      "Error while resolvingIP\n",
      "wa-in-f94.1e100.net\n",
      "ec2-52-88-179-107.us-west-2.compute.amazonaws.com\n",
      "ec2-54-194-133-78.eu-west-1.compute.amazonaws.com\n",
      "Error while resolvingIP\n",
      "Error while resolvingIP\n",
      "iad30s07-in-f5.1e100.net\n",
      "ec2-52-44-189-42.compute-1.amazonaws.com\n",
      "Error while resolvingIP\n",
      "Error while resolvingIP\n",
      "Error while resolvingIP\n",
      "qu-in-f108.1e100.net\n",
      "Error while resolvingIP\n",
      "166.bm-nginx-loadbalancer.mgmt.nym2.adnexus.net\n",
      "ec2-52-55-191-55.compute-1.amazonaws.com\n",
      "Error while resolvingIP\n",
      "Error while resolvingIP\n",
      "media-router-flurry3.prod.media.vip.bf1.yahoo.com\n",
      "ec2-18-210-120-151.compute-1.amazonaws.com\n",
      "94-237-48-90.uk-lon1.host.upcloud.com\n",
      "Error while resolvingIP\n",
      "Error while resolvingIP\n",
      "Error while resolvingIP\n",
      "Error while resolvingIP\n",
      "mia09s01-in-f14.1e100.net\n",
      "atl26s14-in-f14.1e100.net\n",
      "Error while resolvingIP\n",
      "ec2-35-173-77-12.compute-1.amazonaws.com\n",
      "Error while resolvingIP\n",
      "Error while resolvingIP\n",
      "Error while resolvingIP\n",
      "158.118.255.173.bc.googleusercontent.com\n",
      "Error while resolvingIP\n",
      "ec2-54-85-139-195.compute-1.amazonaws.com\n",
      "Error while resolvingIP\n",
      "server-52-85-88-23.jfk6.r.cloudfront.net\n",
      "Error while resolvingIP\n",
      "Error while resolvingIP\n",
      "nycp-hlb17.doubleverify.com\n",
      "iad30s08-in-f138.1e100.net\n",
      "Error while resolvingIP\n",
      "Error while resolvingIP\n",
      "dcl1-phx.login.salesforce.com\n",
      "Error while resolvingIP\n",
      "tsa.webex.com\n",
      "Error while resolvingIP\n",
      "hbrt-or1-ext-vip.adobe.com\n",
      "euvm14.netdimensions.com\n",
      "ec2-52-204-38-123.compute-1.amazonaws.com\n",
      "dcl3-phx.la1-c2-phx.salesforceliveagent.com\n",
      "Error while resolvingIP\n",
      "a104-105-232-195.deploy.static.akamaitechnologies.com\n",
      "a23-218-120-103.deploy.static.akamaitechnologies.com\n",
      "Error while resolvingIP\n",
      "Error while resolvingIP\n",
      "mediaserver-sv5-t1-2-v4.pandora.com\n",
      "Error while resolvingIP\n",
      "Error while resolvingIP\n",
      "Error while resolvingIP\n",
      "Error while resolvingIP\n",
      "Error while resolvingIP\n",
      "Error while resolvingIP\n",
      "s03.id5-sync.com\n",
      "msnbot-65-52-108-90.search.msn.com\n",
      "server-54-192-53-151.jfk6.r.cloudfront.net\n",
      "mia09s17-in-f14.1e100.net\n",
      "ec2-54-149-52-189.us-west-2.compute.amazonaws.com\n",
      "ua-in-f94.1e100.net\n",
      "Error while resolvingIP\n",
      "136.bm-nginx-loadbalancer.mgmt.nym2.adnexus.net\n",
      "Error while resolvingIP\n",
      "a23-218-120-198.deploy.static.akamaitechnologies.com\n",
      "xx-fbcdn-shv-01-atl3.fbcdn.net\n",
      "Error while resolvingIP\n",
      "Error while resolvingIP\n",
      "Error while resolvingIP\n",
      "Error while resolvingIP\n",
      "qv-in-f109.1e100.net\n",
      "c-73-71-110-202.hsd1.ca.comcast.net\n",
      "ec2-52-201-17-20.compute-1.amazonaws.com\n",
      "ec2-34-236-211-107.compute-1.amazonaws.com\n",
      "Error while resolvingIP\n",
      "Error while resolvingIP\n",
      "Error while resolvingIP\n",
      "iad23s40-in-f10.1e100.net\n",
      "iad30s07-in-f1.1e100.net\n",
      "Error while resolvingIP\n",
      "e6-ha.ycpi.ata.yahoo.com\n",
      "lga25s63-in-f3.1e100.net\n",
      "nycp-hlb23.doubleverify.com\n",
      "s3-us-west-2.amazonaws.com\n",
      "ec2-52-33-23-226.us-west-2.compute.amazonaws.com\n",
      "Error while resolvingIP\n",
      "Error while resolvingIP\n",
      "ec2-54-165-207-60.compute-1.amazonaws.com\n",
      "ec2-34-234-49-92.compute-1.amazonaws.com\n",
      "edge-star-shv-01-sea1.facebook.com\n",
      "a104-105-232-68.deploy.static.akamaitechnologies.com\n",
      "Error while resolvingIP\n",
      "ec2-18-220-156-178.us-east-2.compute.amazonaws.com\n",
      "Error while resolvingIP\n",
      "Error while resolvingIP\n",
      "ip176.208-100-17.static.steadfastdns.net\n",
      "Error while resolvingIP\n",
      "Error while resolvingIP\n",
      "Error while resolvingIP\n",
      "Error while resolvingIP\n",
      "Error while resolvingIP\n",
      "Error while resolvingIP\n",
      "Error while resolvingIP\n",
      "Error while resolvingIP\n",
      "ec2-34-213-133-242.us-west-2.compute.amazonaws.com\n",
      "ec2-54-193-96-144.us-west-1.compute.amazonaws.com\n",
      "m-prd-pxl-shared-mr3-blue-a.evip.aol.com\n",
      "Error while resolvingIP\n",
      "Error while resolvingIP\n",
      "a23-33-84-151.deploy.static.akamaitechnologies.com\n",
      "Error while resolvingIP\n",
      "dcl7-phx.la1-c2-phx.salesforceliveagent.com\n",
      "Error while resolvingIP\n",
      "ec2-23-22-66-78.compute-1.amazonaws.com\n",
      "ec2-52-33-136-64.us-west-2.compute.amazonaws.com\n",
      "a23-196-32-161.deploy.static.akamaitechnologies.com\n",
      "a23-43-83-56.deploy.static.akamaitechnologies.com\n",
      "Error while resolvingIP\n",
      "ec2-52-52-5-211.us-west-1.compute.amazonaws.com\n",
      "ec2-54-214-13-190.us-west-2.compute.amazonaws.com\n",
      "Error while resolvingIP\n",
      "msnbot-65-52-108-76.search.msn.com\n",
      "Error while resolvingIP\n",
      "Error while resolvingIP\n",
      "nycp-hlb24.doubleverify.com\n",
      "Error while resolvingIP\n",
      "a104-119-98-199.deploy.static.akamaitechnologies.com\n",
      "Error while resolvingIP\n",
      "ec2-52-44-175-211.compute-1.amazonaws.com\n",
      "ec2-52-0-214-228.compute-1.amazonaws.com\n",
      "Error while resolvingIP\n",
      "Error while resolvingIP\n",
      "yv-in-f155.1e100.net\n",
      "Error while resolvingIP\n",
      "iad23s58-in-f10.1e100.net\n",
      "atl26s13-in-f2.1e100.net\n",
      "Error while resolvingIP\n",
      "instagram-p3-shv-01-sea1.fbcdn.net\n",
      "a104-105-242-252.deploy.static.akamaitechnologies.com\n",
      "msnbot-157-55-109-226.search.msn.com\n",
      "sky400-aol-sec.mail.vip.bf2.yahoo.com\n",
      "Error while resolvingIP\n",
      "Error while resolvingIP\n",
      "Error while resolvingIP\n",
      "Error while resolvingIP\n",
      "server-52-85-89-205.jfk6.r.cloudfront.net\n",
      "Error while resolvingIP\n",
      "Error while resolvingIP\n",
      "Error while resolvingIP\n",
      "Error while resolvingIP\n",
      "host-34.billboard.cz\n",
      "ec2-52-4-14-41.compute-1.amazonaws.com\n",
      "Error while resolvingIP\n",
      "ec2-52-4-31-11.compute-1.amazonaws.com\n",
      "Error while resolvingIP\n",
      "Error while resolvingIP\n",
      "Error while resolvingIP\n",
      "Error while resolvingIP\n",
      "Error while resolvingIP\n",
      "Error while resolvingIP\n",
      "server-52-85-89-119.jfk6.r.cloudfront.net\n",
      "nycp-hlb19.doubleverify.com\n",
      "Error while resolvingIP\n",
      "Error while resolvingIP\n",
      "Error while resolvingIP\n",
      "Error while resolvingIP\n",
      "Error while resolvingIP\n",
      "iad30s10-in-f202.1e100.net\n",
      "dc4-003-edge.icloud-content.com\n",
      "ec2-50-112-159-73.us-west-2.compute.amazonaws.com\n",
      "ec2-107-21-98-186.compute-1.amazonaws.com\n",
      "ec2-52-45-150-117.compute-1.amazonaws.com\n",
      "dcl6-phx.la1-c2-phx.salesforceliveagent.com\n",
      "ec2-52-87-201-4.compute-1.amazonaws.com\n",
      "Error while resolvingIP\n",
      "o2.ycpi.vip.bf1.yahoo.com\n",
      "iad23s63-in-f10.1e100.net\n",
      "ua-in-f120.1e100.net\n",
      "Error while resolvingIP\n",
      "Error while resolvingIP\n",
      "Error while resolvingIP\n",
      "Error while resolvingIP\n",
      "sb.omnitagsb.com\n",
      "Error while resolvingIP\n",
      "Error while resolvingIP\n",
      "Error while resolvingIP\n",
      "Error while resolvingIP\n",
      "ec2-34-234-151-4.compute-1.amazonaws.com\n",
      "Error while resolvingIP\n",
      "ec2-34-200-43-116.compute-1.amazonaws.com\n",
      "Error while resolvingIP\n",
      "ec2-54-86-46-227.compute-1.amazonaws.com\n",
      "Error while resolvingIP\n",
      "ec2-52-201-106-115.compute-1.amazonaws.com\n",
      "Error while resolvingIP\n",
      "ec2-18-211-30-29.compute-1.amazonaws.com\n",
      "ec2-52-44-176-122.compute-1.amazonaws.com\n",
      "Error while resolvingIP\n",
      "Error while resolvingIP\n",
      "Error while resolvingIP\n",
      "Error while resolvingIP\n",
      "Error while resolvingIP\n",
      "ec2-34-201-181-170.compute-1.amazonaws.com\n",
      "subscription.rhsm.redhat.com\n",
      "ec2-52-8-126-55.us-west-1.compute.amazonaws.com\n",
      "a104-106-1-169.deploy.static.akamaitechnologies.com\n",
      "Error while resolvingIP\n",
      "mpr2.ngd.vip.ne1.yahoo.com\n",
      "media-router-brb1.prod.media.vip.bf1.yahoo.com\n",
      "ec2-52-88-205-160.us-west-2.compute.amazonaws.com\n",
      "ec2-54-208-38-43.compute-1.amazonaws.com\n",
      "Error while resolvingIP\n",
      "Error while resolvingIP\n",
      "Error while resolvingIP\n",
      "ec2-52-22-133-58.compute-1.amazonaws.com\n",
      "Error while resolvingIP\n",
      "ec2-52-8-121-249.us-west-1.compute.amazonaws.com\n",
      "ec2-52-42-158-128.us-west-2.compute.amazonaws.com\n",
      "Error while resolvingIP\n",
      "Error while resolvingIP\n",
      "Error while resolvingIP\n",
      "Error while resolvingIP\n",
      "Error while resolvingIP\n",
      "Error while resolvingIP\n",
      "host.flx89.com\n",
      "ec2-52-7-249-251.compute-1.amazonaws.com\n",
      "Error while resolvingIP\n",
      "Error while resolvingIP\n",
      "Error while resolvingIP\n",
      "Error while resolvingIP\n",
      "Error while resolvingIP\n",
      "s3-us-west-2-w.amazonaws.com\n",
      "a23-43-107-86.deploy.static.akamaitechnologies.com\n",
      "Error while resolvingIP\n",
      "Error while resolvingIP\n",
      "a23-32-69-6.deploy.static.akamaitechnologies.com\n",
      "Error while resolvingIP\n",
      "nycp-hlb03.doubleverify.com\n",
      "Error while resolvingIP\n",
      "Error while resolvingIP\n",
      "Error while resolvingIP\n",
      "Error while resolvingIP\n",
      "Error while resolvingIP\n",
      "ec2-35-174-158-178.compute-1.amazonaws.com\n",
      "host50-55.wageworks.com\n",
      "Error while resolvingIP\n",
      "Error while resolvingIP\n",
      "Error while resolvingIP\n",
      "ec2-18-191-44-10.us-east-2.compute.amazonaws.com\n",
      "ec2-35-172-245-139.compute-1.amazonaws.com\n",
      "4.223.196.35.bc.googleusercontent.com\n",
      "Error while resolvingIP\n",
      "Error while resolvingIP\n",
      "ec2-18-218-36-106.us-east-2.compute.amazonaws.com\n",
      "atl14s77-in-f19.1e100.net\n",
      "Error while resolvingIP\n",
      "qr-in-f109.1e100.net\n",
      "a23-0-28-43.deploy.static.akamaitechnologies.com\n",
      "serve-east.acuityplatform.com\n",
      "lga-delivery-7.sys.adgear.com\n",
      "m-prd-umpxl-shared-mr3-blue-a.evip.aol.com\n",
      "ec2-52-22-78-109.compute-1.amazonaws.com\n",
      "Error while resolvingIP\n",
      "ec2-54-236-120-232.compute-1.amazonaws.com\n",
      "Error while resolvingIP\n",
      "iad23s44-in-f170.1e100.net\n",
      "ec2-35-173-105-139.compute-1.amazonaws.com\n",
      "Error while resolvingIP\n",
      "server-52-84-33-56.ewr50.r.cloudfront.net\n",
      "ec2-54-164-1-137.compute-1.amazonaws.com\n",
      "Error while resolvingIP\n",
      "Error while resolvingIP\n",
      "columbia242.jqh.com\n",
      "ec2-52-16-199-200.eu-west-1.compute.amazonaws.com\n",
      "ec2-34-206-65-78.compute-1.amazonaws.com\n",
      "ec2-52-30-130-132.eu-west-1.compute.amazonaws.com\n",
      "Error while resolvingIP\n",
      "Error while resolvingIP\n",
      "Error while resolvingIP\n",
      "Error while resolvingIP\n",
      "242.bm-nginx-loadbalancer.mgmt.nym2.adnexus.net\n",
      "Error while resolvingIP\n",
      "ec2-13-59-199-71.us-east-2.compute.amazonaws.com\n",
      "ec2-18-216-222-36.us-east-2.compute.amazonaws.com\n",
      "spdc.pbp.vip.bf1.yahoo.com\n",
      "Error while resolvingIP\n",
      "dsp.adfarm1.adition.com\n",
      "Error while resolvingIP\n",
      "Error while resolvingIP\n",
      "ec2-52-44-98-146.compute-1.amazonaws.com\n",
      "s3-us-west-2.amazonaws.com\n",
      "ec2-54-187-223-244.us-west-2.compute.amazonaws.com\n",
      "ec2-34-209-130-61.us-west-2.compute.amazonaws.com\n",
      "ec2-18-209-74-44.compute-1.amazonaws.com\n",
      "ec2-34-213-220-124.us-west-2.compute.amazonaws.com\n",
      "Error while resolvingIP\n",
      "ec2-52-35-223-250.us-west-2.compute.amazonaws.com\n",
      "Error while resolvingIP\n",
      "adventori.com\n",
      "Error while resolvingIP\n",
      "Error while resolvingIP\n",
      "nginxi-ext-las-prd.cdk.com\n",
      "ec2-18-221-137-245.us-east-2.compute.amazonaws.com\n",
      "Error while resolvingIP\n",
      "Error while resolvingIP\n",
      "Error while resolvingIP\n",
      "server-52-84-33-26.ewr50.r.cloudfront.net\n",
      "ec2-18-204-40-206.compute-1.amazonaws.com\n",
      "cont-ch1-1-v4.pandora.com\n",
      "cont-ch1-2-v4.pandora.com\n",
      "Error while resolvingIP\n",
      "Error while resolvingIP\n",
      "Error while resolvingIP\n",
      "Error while resolvingIP\n",
      "ec2-34-202-139-29.compute-1.amazonaws.com\n",
      "atl26s18-in-f2.1e100.net\n",
      "a23-32-73-25.deploy.static.akamaitechnologies.com\n",
      "mail-ve1eur03lp0151.outbound.protection.outlook.com\n",
      "signin.ebay.com\n",
      "Error while resolvingIP\n",
      "Error while resolvingIP\n",
      "ec2-54-172-47-69.compute-1.amazonaws.com\n",
      "ec2-35-172-187-217.compute-1.amazonaws.com\n",
      "Error while resolvingIP\n",
      "Error while resolvingIP\n",
      "ec2-18-217-198-123.us-east-2.compute.amazonaws.com\n",
      "ec2-54-86-213-14.compute-1.amazonaws.com\n",
      "ec2-35-168-255-119.compute-1.amazonaws.com\n",
      "108-174-11-65.fwd.linkedin.com\n",
      "Error while resolvingIP\n",
      "nycp-hlb06.doubleverify.com\n",
      "ec2-54-68-138-220.us-west-2.compute.amazonaws.com\n",
      "ec2-34-194-112-36.compute-1.amazonaws.com\n",
      "Error while resolvingIP\n",
      "Error while resolvingIP\n",
      "Error while resolvingIP\n",
      "ec2-34-196-213-65.compute-1.amazonaws.com\n",
      "Error while resolvingIP\n",
      "Error while resolvingIP\n",
      "Error while resolvingIP\n",
      "Error while resolvingIP\n",
      "Error while resolvingIP\n",
      "Error while resolvingIP\n",
      "ec2-54-85-235-179.compute-1.amazonaws.com\n",
      "ec2-52-5-166-35.compute-1.amazonaws.com\n",
      "Error while resolvingIP\n",
      "Error while resolvingIP\n",
      "Error while resolvingIP\n",
      "Error while resolvingIP\n",
      "Error while resolvingIP\n",
      "ec2-52-205-207-146.compute-1.amazonaws.com\n",
      "Error while resolvingIP\n",
      "dcl5-phx.la1-c2-phx.salesforceliveagent.com\n",
      "Error while resolvingIP\n",
      "Error while resolvingIP\n",
      "Error while resolvingIP\n",
      "iad30s07-in-f227.1e100.net\n",
      "Error while resolvingIP\n",
      "ec2-54-186-41-22.us-west-2.compute.amazonaws.com\n",
      "Error while resolvingIP\n",
      "Error while resolvingIP\n",
      "ec2-18-188-185-135.us-east-2.compute.amazonaws.com\n",
      "xx-fbcdn-shv-01-sea1.fbcdn.net\n",
      "Error while resolvingIP\n",
      "Error while resolvingIP\n",
      "Error while resolvingIP\n",
      "Error while resolvingIP\n",
      "Error while resolvingIP\n",
      "Error while resolvingIP\n",
      "Error while resolvingIP\n",
      "Error while resolvingIP\n",
      "Error while resolvingIP\n",
      "Error while resolvingIP\n",
      "iad30s07-in-f10.1e100.net\n",
      "a23-32-69-246.deploy.static.akamaitechnologies.com\n",
      "ec2-54-210-78-214.compute-1.amazonaws.com\n",
      "media-router-fp2.prod1.media.vip.ne1.yahoo.com\n",
      "a23-2-145-78.deploy.static.akamaitechnologies.com\n",
      "Error while resolvingIP\n",
      "Error while resolvingIP\n",
      "ec2-54-209-236-0.compute-1.amazonaws.com\n",
      "Error while resolvingIP\n",
      "ec2-18-220-154-107.us-east-2.compute.amazonaws.com\n",
      "206-141.amazon.com\n",
      "Error while resolvingIP\n",
      "a23-195-252-46.deploy.static.akamaitechnologies.com\n",
      "ec2-52-0-84-162.compute-1.amazonaws.com\n",
      "ec2-34-192-121-115.compute-1.amazonaws.com\n",
      "ec2-35-173-10-63.compute-1.amazonaws.com\n",
      "Error while resolvingIP\n",
      "ec2-52-203-99-198.compute-1.amazonaws.com\n",
      "Error while resolvingIP\n",
      "adserver.pandora.com\n",
      "Error while resolvingIP\n",
      "i-by3p-cor002.api.p001.1drv.com\n",
      "ec2-18-217-49-143.us-east-2.compute.amazonaws.com\n",
      "Error while resolvingIP\n",
      "ip-198-71-233-233.ip.secureserver.net\n",
      "media-router-fp2.prod1.media.vip.bf1.yahoo.com\n",
      "ec2-52-45-232-13.compute-1.amazonaws.com\n",
      "Error while resolvingIP\n",
      "ec2-52-49-103-24.eu-west-1.compute.amazonaws.com\n",
      "ec2-34-196-124-36.compute-1.amazonaws.com\n",
      "m-prd-umpxl-shared-mr1-blue-a.evip.aol.com\n",
      "Error while resolvingIP\n",
      "Error while resolvingIP\n",
      "Error while resolvingIP\n",
      "ec2-52-202-62-238.compute-1.amazonaws.com\n",
      "Error while resolvingIP\n",
      "ec2-107-20-80-35.compute-1.amazonaws.com\n",
      "Error while resolvingIP\n",
      "Error while resolvingIP\n",
      "a23-196-35-90.deploy.static.akamaitechnologies.com\n",
      "yb-in-f101.1e100.net\n",
      "Error while resolvingIP\n",
      "Error while resolvingIP\n",
      "Error while resolvingIP\n",
      "tg-in-f94.1e100.net\n",
      "Error while resolvingIP\n",
      "a23-32-149-89.deploy.static.akamaitechnologies.com\n",
      "Error while resolvingIP\n",
      "cm-va5.everesttech.net\n",
      "m-prd-umpxl-adcom-mtc-b.evip.aol.com\n",
      "Error while resolvingIP\n",
      "Error while resolvingIP\n",
      "hosting.adhigh.net\n",
      "Error while resolvingIP\n",
      "Error while resolvingIP\n",
      "Error while resolvingIP\n",
      "Error while resolvingIP\n",
      "ec2-34-225-122-51.compute-1.amazonaws.com\n",
      "Error while resolvingIP\n",
      "Error while resolvingIP\n",
      "ec2-52-48-134-100.eu-west-1.compute.amazonaws.com\n",
      "Error while resolvingIP\n",
      "Error while resolvingIP\n",
      "86.63.231.35.bc.googleusercontent.com\n",
      "Error while resolvingIP\n",
      "85.97.201.35.bc.googleusercontent.com\n",
      "179-228-162-193.user.vivozap.com.br\n",
      "usdal4-vip-bx-007.aaplimg.com\n",
      "ec2-18-206-31-91.compute-1.amazonaws.com\n",
      "ec2-54-86-222-121.compute-1.amazonaws.com\n",
      "ec2-13-59-167-223.us-east-2.compute.amazonaws.com\n",
      "Error while resolvingIP\n",
      "ec2-54-214-240-229.us-west-2.compute.amazonaws.com\n",
      "ip220.ip-94-23-144.eu\n",
      "ip180.ip-144-217-101.net\n",
      "a72-247-243-109.deploy.static.akamaitechnologies.com\n",
      "Error while resolvingIP\n",
      "Error while resolvingIP\n",
      "Error while resolvingIP\n",
      "Error while resolvingIP\n",
      "Error while resolvingIP\n",
      "Error while resolvingIP\n",
      "Error while resolvingIP\n",
      "server-13-32-188-229.atl51.r.cloudfront.net\n",
      "Error while resolvingIP\n",
      "Error while resolvingIP\n",
      "ec2-52-32-212-17.us-west-2.compute.amazonaws.com\n",
      "qs-in-f108.1e100.net\n",
      "Error while resolvingIP\n",
      "Error while resolvingIP\n",
      "ec2-23-20-119-158.compute-1.amazonaws.com\n",
      "Error while resolvingIP\n",
      "a23-32-70-6.deploy.static.akamaitechnologies.com\n",
      "Error while resolvingIP\n",
      "a23-43-82-50.deploy.static.akamaitechnologies.com\n",
      "Error while resolvingIP\n",
      "Error while resolvingIP\n",
      "ec2-54-223-72-245.cn-north-1.compute.amazonaws.com.cn\n",
      "ec2-54-246-145-69.eu-west-1.compute.amazonaws.com\n",
      "ec2-52-204-39-89.compute-1.amazonaws.com\n",
      "ec2-18-218-143-111.us-east-2.compute.amazonaws.com\n",
      "ec2-34-199-153-197.compute-1.amazonaws.com\n",
      "Error while resolvingIP\n",
      "Error while resolvingIP\n",
      "Error while resolvingIP\n",
      "e9.28.6132.ip4.static.sl-reverse.com\n",
      "ec2-54-243-152-122.compute-1.amazonaws.com\n",
      "Error while resolvingIP\n",
      "ec2-34-195-5-131.compute-1.amazonaws.com\n",
      "Error while resolvingIP\n",
      "Error while resolvingIP\n",
      "Error while resolvingIP\n",
      "ec2-35-170-28-98.compute-1.amazonaws.com\n",
      "Error while resolvingIP\n",
      "Error while resolvingIP\n",
      "Error while resolvingIP\n",
      "msnbot-157-55-109-232.search.msn.com\n",
      "ec2-54-228-226-61.eu-west-1.compute.amazonaws.com\n",
      "Error while resolvingIP\n",
      "mediaserver-ch1-t1-1-v4.pandora.com\n",
      "crawl-66-249-66-85.googlebot.com\n",
      "usdal4-vip-bx-001.aaplimg.com\n",
      "ec2-54-85-3-205.compute-1.amazonaws.com\n",
      "ec2-34-234-189-131.compute-1.amazonaws.com\n",
      "sa-in-f120.1e100.net\n",
      "Error while resolvingIP\n",
      "ok6-crtrs.okta.com\n",
      "sa-in-f94.1e100.net\n"
     ]
    }
   ],
   "source": [
    "for i in range(len(unique_ips)):\n",
    "    try:\n",
    "        print(socket.gethostbyaddr(unique_ips[0][i])[0])\n",
    "    except:\n",
    "        print(\"Error while resolvingIP\")\n",
    "    "
   ]
  },
  {
   "cell_type": "code",
   "execution_count": 64,
   "metadata": {
    "collapsed": false
   },
   "outputs": [
    {
     "name": "stdout",
     "output_type": "stream",
     "text": [
      "IP: 98.67.194.58 is NOT listed in zen.spamhaus.org\n",
      "IP: 98.67.194.58 is NOT listed in spam.abuse.ch\n",
      "IP: 98.67.194.58 is NOT listed in cbl.abuseat.org\n",
      "IP: 98.67.194.58 is NOT listed in virbl.dnsbl.bit.nl\n",
      "IP: 98.67.194.58 is NOT listed in dnsbl.inps.de\n",
      "IP: 98.67.194.58 is NOT listed in ix.dnsbl.manitu.net\n",
      "IP: 98.67.194.58 is NOT listed in dnsbl.sorbs.net\n",
      "IP: 98.67.194.58 is NOT listed in bl.spamcannibal.org\n",
      "IP: 98.67.194.58 is NOT listed in bl.spamcop.net\n",
      "IP: 98.67.194.58 is NOT listed in xbl.spamhaus.org\n",
      "IP: 98.67.194.58 is NOT listed in pbl.spamhaus.org\n",
      "IP: 98.67.194.58 is NOT listed in dnsbl-1.uceprotect.net\n",
      "IP: 98.67.194.58 is NOT listed in dnsbl-2.uceprotect.net\n",
      "IP: 98.67.194.58 is NOT listed in dnsbl-3.uceprotect.net\n",
      "IP: 98.67.194.58 is NOT listed in db.wpbl.info\n"
     ]
    }
   ],
   "source": [
    "import dns.resolver\n",
    "import sys\n",
    "\n",
    "def checkIP(bls, myIP):\n",
    "    for bl in bls:\n",
    "        try:\n",
    "            my_resolver = dns.resolver.Resolver()\n",
    "            query = '.'.join(reversed(str(myIP).split(\".\"))) + \".\" + bl\n",
    "            answers = my_resolver.query(query, \"A\")\n",
    "            answer_txt = my_resolver.query(query, \"TXT\")\n",
    "            print ('IP: %s IS listed in %s (%s: %s)' %(myIP, bl, answers[0], answer_txt[0]))\n",
    "        except dns.resolver.NXDOMAIN:\n",
    "            print ('IP: %s is NOT listed in %s' %(myIP, bl))\n",
    "        \n",
    "    \n",
    "bls = [\"zen.spamhaus.org\", \"spam.abuse.ch\", \"cbl.abuseat.org\", \"virbl.dnsbl.bit.nl\", \"dnsbl.inps.de\", \n",
    "    \"ix.dnsbl.manitu.net\", \"dnsbl.sorbs.net\", \"bl.spamcannibal.org\", \"bl.spamcop.net\", \n",
    "    \"xbl.spamhaus.org\", \"pbl.spamhaus.org\", \"dnsbl-1.uceprotect.net\", \"dnsbl-2.uceprotect.net\", \n",
    "    \"dnsbl-3.uceprotect.net\", \"db.wpbl.info\"]\n",
    " \n",
    "checkIP(bls, \"98.67.194.58\")"
   ]
  },
  {
   "cell_type": "code",
   "execution_count": 85,
   "metadata": {
    "collapsed": false,
    "scrolled": false
   },
   "outputs": [
    {
     "data": {
      "text/plain": [
       "'Texas'"
      ]
     },
     "metadata": {},
     "output_type": "display_data"
    },
    {
     "data": {
      "text/plain": [
       "'Virginia'"
      ]
     },
     "metadata": {},
     "output_type": "display_data"
    },
    {
     "data": {
      "text/plain": [
       "'Virginia'"
      ]
     },
     "metadata": {},
     "output_type": "display_data"
    },
    {
     "data": {
      "text/plain": [
       "'Virginia'"
      ]
     },
     "metadata": {},
     "output_type": "display_data"
    },
    {
     "data": {
      "text/plain": [
       "nan"
      ]
     },
     "metadata": {},
     "output_type": "display_data"
    },
    {
     "data": {
      "text/plain": [
       "nan"
      ]
     },
     "metadata": {},
     "output_type": "display_data"
    },
    {
     "data": {
      "text/plain": [
       "nan"
      ]
     },
     "metadata": {},
     "output_type": "display_data"
    },
    {
     "data": {
      "text/plain": [
       "nan"
      ]
     },
     "metadata": {},
     "output_type": "display_data"
    },
    {
     "data": {
      "text/plain": [
       "'British Columbia'"
      ]
     },
     "metadata": {},
     "output_type": "display_data"
    },
    {
     "data": {
      "text/plain": [
       "nan"
      ]
     },
     "metadata": {},
     "output_type": "display_data"
    },
    {
     "data": {
      "text/plain": [
       "nan"
      ]
     },
     "metadata": {},
     "output_type": "display_data"
    },
    {
     "data": {
      "text/plain": [
       "'British Columbia'"
      ]
     },
     "metadata": {},
     "output_type": "display_data"
    },
    {
     "data": {
      "text/plain": [
       "'Massachusetts'"
      ]
     },
     "metadata": {},
     "output_type": "display_data"
    },
    {
     "data": {
      "text/plain": [
       "'Massachusetts'"
      ]
     },
     "metadata": {},
     "output_type": "display_data"
    },
    {
     "data": {
      "text/plain": [
       "'British Columbia'"
      ]
     },
     "metadata": {},
     "output_type": "display_data"
    },
    {
     "data": {
      "text/plain": [
       "'British Columbia'"
      ]
     },
     "metadata": {},
     "output_type": "display_data"
    },
    {
     "data": {
      "text/plain": [
       "'British Columbia'"
      ]
     },
     "metadata": {},
     "output_type": "display_data"
    },
    {
     "data": {
      "text/plain": [
       "'Texas'"
      ]
     },
     "metadata": {},
     "output_type": "display_data"
    },
    {
     "data": {
      "text/plain": [
       "'Texas'"
      ]
     },
     "metadata": {},
     "output_type": "display_data"
    },
    {
     "data": {
      "text/plain": [
       "'Texas'"
      ]
     },
     "metadata": {},
     "output_type": "display_data"
    },
    {
     "data": {
      "text/plain": [
       "'Texas'"
      ]
     },
     "metadata": {},
     "output_type": "display_data"
    },
    {
     "data": {
      "text/plain": [
       "'Texas'"
      ]
     },
     "metadata": {},
     "output_type": "display_data"
    },
    {
     "data": {
      "text/plain": [
       "'Virginia'"
      ]
     },
     "metadata": {},
     "output_type": "display_data"
    },
    {
     "data": {
      "text/plain": [
       "nan"
      ]
     },
     "metadata": {},
     "output_type": "display_data"
    },
    {
     "data": {
      "text/plain": [
       "nan"
      ]
     },
     "metadata": {},
     "output_type": "display_data"
    },
    {
     "data": {
      "text/plain": [
       "nan"
      ]
     },
     "metadata": {},
     "output_type": "display_data"
    },
    {
     "data": {
      "text/plain": [
       "nan"
      ]
     },
     "metadata": {},
     "output_type": "display_data"
    },
    {
     "data": {
      "text/plain": [
       "nan"
      ]
     },
     "metadata": {},
     "output_type": "display_data"
    },
    {
     "data": {
      "text/plain": [
       "nan"
      ]
     },
     "metadata": {},
     "output_type": "display_data"
    },
    {
     "data": {
      "text/plain": [
       "'Massachusetts'"
      ]
     },
     "metadata": {},
     "output_type": "display_data"
    },
    {
     "data": {
      "text/plain": [
       "'Massachusetts'"
      ]
     },
     "metadata": {},
     "output_type": "display_data"
    },
    {
     "data": {
      "text/plain": [
       "'British Columbia'"
      ]
     },
     "metadata": {},
     "output_type": "display_data"
    },
    {
     "data": {
      "text/plain": [
       "'British Columbia'"
      ]
     },
     "metadata": {},
     "output_type": "display_data"
    },
    {
     "data": {
      "text/plain": [
       "'British Columbia'"
      ]
     },
     "metadata": {},
     "output_type": "display_data"
    },
    {
     "data": {
      "text/plain": [
       "'British Columbia'"
      ]
     },
     "metadata": {},
     "output_type": "display_data"
    },
    {
     "data": {
      "text/plain": [
       "'Virginia'"
      ]
     },
     "metadata": {},
     "output_type": "display_data"
    },
    {
     "data": {
      "text/plain": [
       "'Texas'"
      ]
     },
     "metadata": {},
     "output_type": "display_data"
    },
    {
     "data": {
      "text/plain": [
       "'Texas'"
      ]
     },
     "metadata": {},
     "output_type": "display_data"
    },
    {
     "data": {
      "text/plain": [
       "'Texas'"
      ]
     },
     "metadata": {},
     "output_type": "display_data"
    },
    {
     "data": {
      "text/plain": [
       "nan"
      ]
     },
     "metadata": {},
     "output_type": "display_data"
    },
    {
     "data": {
      "text/plain": [
       "nan"
      ]
     },
     "metadata": {},
     "output_type": "display_data"
    },
    {
     "data": {
      "text/plain": [
       "nan"
      ]
     },
     "metadata": {},
     "output_type": "display_data"
    },
    {
     "data": {
      "text/plain": [
       "nan"
      ]
     },
     "metadata": {},
     "output_type": "display_data"
    },
    {
     "data": {
      "text/plain": [
       "nan"
      ]
     },
     "metadata": {},
     "output_type": "display_data"
    },
    {
     "data": {
      "text/plain": [
       "nan"
      ]
     },
     "metadata": {},
     "output_type": "display_data"
    },
    {
     "data": {
      "text/plain": [
       "'Massachusetts'"
      ]
     },
     "metadata": {},
     "output_type": "display_data"
    },
    {
     "data": {
      "text/plain": [
       "'Massachusetts'"
      ]
     },
     "metadata": {},
     "output_type": "display_data"
    },
    {
     "data": {
      "text/plain": [
       "'British Columbia'"
      ]
     },
     "metadata": {},
     "output_type": "display_data"
    },
    {
     "data": {
      "text/plain": [
       "'British Columbia'"
      ]
     },
     "metadata": {},
     "output_type": "display_data"
    },
    {
     "data": {
      "text/plain": [
       "'British Columbia'"
      ]
     },
     "metadata": {},
     "output_type": "display_data"
    },
    {
     "data": {
      "text/plain": [
       "'Virginia'"
      ]
     },
     "metadata": {},
     "output_type": "display_data"
    },
    {
     "data": {
      "text/plain": [
       "nan"
      ]
     },
     "metadata": {},
     "output_type": "display_data"
    },
    {
     "data": {
      "text/plain": [
       "'Texas'"
      ]
     },
     "metadata": {},
     "output_type": "display_data"
    },
    {
     "data": {
      "text/plain": [
       "'Texas'"
      ]
     },
     "metadata": {},
     "output_type": "display_data"
    },
    {
     "data": {
      "text/plain": [
       "'Virginia'"
      ]
     },
     "metadata": {},
     "output_type": "display_data"
    },
    {
     "data": {
      "text/plain": [
       "'Texas'"
      ]
     },
     "metadata": {},
     "output_type": "display_data"
    },
    {
     "data": {
      "text/plain": [
       "nan"
      ]
     },
     "metadata": {},
     "output_type": "display_data"
    },
    {
     "data": {
      "text/plain": [
       "'Virginia'"
      ]
     },
     "metadata": {},
     "output_type": "display_data"
    },
    {
     "data": {
      "text/plain": [
       "nan"
      ]
     },
     "metadata": {},
     "output_type": "display_data"
    },
    {
     "data": {
      "text/plain": [
       "'Virginia'"
      ]
     },
     "metadata": {},
     "output_type": "display_data"
    },
    {
     "data": {
      "text/plain": [
       "nan"
      ]
     },
     "metadata": {},
     "output_type": "display_data"
    },
    {
     "data": {
      "text/plain": [
       "nan"
      ]
     },
     "metadata": {},
     "output_type": "display_data"
    },
    {
     "data": {
      "text/plain": [
       "nan"
      ]
     },
     "metadata": {},
     "output_type": "display_data"
    },
    {
     "data": {
      "text/plain": [
       "nan"
      ]
     },
     "metadata": {},
     "output_type": "display_data"
    },
    {
     "data": {
      "text/plain": [
       "nan"
      ]
     },
     "metadata": {},
     "output_type": "display_data"
    },
    {
     "data": {
      "text/plain": [
       "'Virginia'"
      ]
     },
     "metadata": {},
     "output_type": "display_data"
    },
    {
     "data": {
      "text/plain": [
       "'Massachusetts'"
      ]
     },
     "metadata": {},
     "output_type": "display_data"
    },
    {
     "data": {
      "text/plain": [
       "'Massachusetts'"
      ]
     },
     "metadata": {},
     "output_type": "display_data"
    },
    {
     "data": {
      "text/plain": [
       "'Virginia'"
      ]
     },
     "metadata": {},
     "output_type": "display_data"
    },
    {
     "data": {
      "text/plain": [
       "'British Columbia'"
      ]
     },
     "metadata": {},
     "output_type": "display_data"
    },
    {
     "data": {
      "text/plain": [
       "'British Columbia'"
      ]
     },
     "metadata": {},
     "output_type": "display_data"
    },
    {
     "data": {
      "text/plain": [
       "'British Columbia'"
      ]
     },
     "metadata": {},
     "output_type": "display_data"
    },
    {
     "data": {
      "text/plain": [
       "'Texas'"
      ]
     },
     "metadata": {},
     "output_type": "display_data"
    },
    {
     "data": {
      "text/plain": [
       "'Texas'"
      ]
     },
     "metadata": {},
     "output_type": "display_data"
    },
    {
     "data": {
      "text/plain": [
       "nan"
      ]
     },
     "metadata": {},
     "output_type": "display_data"
    },
    {
     "data": {
      "text/plain": [
       "nan"
      ]
     },
     "metadata": {},
     "output_type": "display_data"
    },
    {
     "data": {
      "text/plain": [
       "nan"
      ]
     },
     "metadata": {},
     "output_type": "display_data"
    },
    {
     "data": {
      "text/plain": [
       "nan"
      ]
     },
     "metadata": {},
     "output_type": "display_data"
    },
    {
     "data": {
      "text/plain": [
       "nan"
      ]
     },
     "metadata": {},
     "output_type": "display_data"
    },
    {
     "data": {
      "text/plain": [
       "nan"
      ]
     },
     "metadata": {},
     "output_type": "display_data"
    },
    {
     "data": {
      "text/plain": [
       "'Massachusetts'"
      ]
     },
     "metadata": {},
     "output_type": "display_data"
    },
    {
     "data": {
      "text/plain": [
       "'Massachusetts'"
      ]
     },
     "metadata": {},
     "output_type": "display_data"
    },
    {
     "data": {
      "text/plain": [
       "'Virginia'"
      ]
     },
     "metadata": {},
     "output_type": "display_data"
    },
    {
     "data": {
      "text/plain": [
       "'Virginia'"
      ]
     },
     "metadata": {},
     "output_type": "display_data"
    },
    {
     "data": {
      "text/plain": [
       "'Texas'"
      ]
     },
     "metadata": {},
     "output_type": "display_data"
    },
    {
     "data": {
      "text/plain": [
       "'British Columbia'"
      ]
     },
     "metadata": {},
     "output_type": "display_data"
    },
    {
     "data": {
      "text/plain": [
       "'Texas'"
      ]
     },
     "metadata": {},
     "output_type": "display_data"
    },
    {
     "data": {
      "text/plain": [
       "'British Columbia'"
      ]
     },
     "metadata": {},
     "output_type": "display_data"
    },
    {
     "data": {
      "text/plain": [
       "'Texas'"
      ]
     },
     "metadata": {},
     "output_type": "display_data"
    },
    {
     "data": {
      "text/plain": [
       "'Texas'"
      ]
     },
     "metadata": {},
     "output_type": "display_data"
    },
    {
     "data": {
      "text/plain": [
       "'Texas'"
      ]
     },
     "metadata": {},
     "output_type": "display_data"
    },
    {
     "data": {
      "text/plain": [
       "nan"
      ]
     },
     "metadata": {},
     "output_type": "display_data"
    },
    {
     "data": {
      "text/plain": [
       "nan"
      ]
     },
     "metadata": {},
     "output_type": "display_data"
    },
    {
     "data": {
      "text/plain": [
       "nan"
      ]
     },
     "metadata": {},
     "output_type": "display_data"
    },
    {
     "data": {
      "text/plain": [
       "nan"
      ]
     },
     "metadata": {},
     "output_type": "display_data"
    },
    {
     "data": {
      "text/plain": [
       "nan"
      ]
     },
     "metadata": {},
     "output_type": "display_data"
    },
    {
     "data": {
      "text/plain": [
       "nan"
      ]
     },
     "metadata": {},
     "output_type": "display_data"
    },
    {
     "data": {
      "text/plain": [
       "'Massachusetts'"
      ]
     },
     "metadata": {},
     "output_type": "display_data"
    },
    {
     "data": {
      "text/plain": [
       "'Massachusetts'"
      ]
     },
     "metadata": {},
     "output_type": "display_data"
    },
    {
     "data": {
      "text/plain": [
       "'Virginia'"
      ]
     },
     "metadata": {},
     "output_type": "display_data"
    }
   ],
   "source": [
    "for r in range(100):\n",
    "    display(full_data['geoip.region_name'][r])"
   ]
  },
  {
   "cell_type": "markdown",
   "metadata": {},
   "source": [
    "### CSV TO JSON TEST"
   ]
  },
  {
   "cell_type": "code",
   "execution_count": 95,
   "metadata": {
    "collapsed": false
   },
   "outputs": [
    {
     "name": "stdout",
     "output_type": "stream",
     "text": [
      "['alert.category', 'alert.action', 'alert.signature_id', 'client_name', 'geoip.country_name', 'geoip.region_name', 'src_ip', 'dest_ip', 'src_port', 'dest_port', 'log_source', 'packet']\n"
     ]
    },
    {
     "name": "stderr",
     "output_type": "stream",
     "text": [
      "/Users/juanerolon/anaconda/envs/aind-dog/lib/python3.5/site-packages/ipykernel/__main__.py:9: DeprecationWarning: 'U' mode is deprecated\n"
     ]
    },
    {
     "name": "stdout",
     "output_type": "stream",
     "text": [
      "JSON parsed!\n",
      "JSON saved!\n"
     ]
    }
   ],
   "source": [
    "#Obtain csv field names\n",
    "csvdf = pd.read_csv(datasets_path + 'search_logs_1_large.csv',index_col=0)\n",
    "field_names = list(full_data.columns)\n",
    "print(field_names)\n",
    "\n",
    "if True:\n",
    "\n",
    "    # Open CSV file\n",
    "    f = open(datasets_path + 'search_logs_1_large.csv', 'rU')\n",
    "    reader = csv.DictReader(f, fieldnames=field_names)\n",
    "    # Parse the CSV into JSON\n",
    "    out = json.dumps([row for row in reader])\n",
    "    print(\"JSON parsed!\")\n",
    "\n",
    "    # Save the JSON\n",
    "    f = open(datasets_path + 'search_logs_1_large.json', 'w')\n",
    "    f.write(out)\n",
    "    print(\"JSON saved!\")"
   ]
  },
  {
   "cell_type": "markdown",
   "metadata": {
    "deletable": true,
    "editable": true
   },
   "source": [
    "### CHECK CSV TO JSON CONVERSION INTEGRITY"
   ]
  },
  {
   "cell_type": "code",
   "execution_count": 96,
   "metadata": {
    "collapsed": false
   },
   "outputs": [
    {
     "name": "stdout",
     "output_type": "stream",
     "text": [
      "All labels in data:\n",
      "\n"
     ]
    },
    {
     "data": {
      "text/plain": [
       "['alert.action',\n",
       " 'alert.category',\n",
       " 'alert.signature_id',\n",
       " 'client_name',\n",
       " 'dest_ip',\n",
       " 'dest_port',\n",
       " 'geoip.country_name',\n",
       " 'geoip.region_name',\n",
       " 'log_source',\n",
       " 'null',\n",
       " 'packet',\n",
       " 'src_ip',\n",
       " 'src_port']"
      ]
     },
     "metadata": {},
     "output_type": "display_data"
    },
    {
     "name": "stdout",
     "output_type": "stream",
     "text": [
      "\n",
      "Int64Index([    0,     1,     2,     3,     4,     5,     6,     7,     8,\n",
      "                9,\n",
      "            ...\n",
      "            27151, 27152, 27153, 27154, 27155, 27156, 27157, 27158, 27159,\n",
      "            27160],\n",
      "           dtype='int64', length=27161)\n"
     ]
    }
   ],
   "source": [
    "# json to dataframe conversion\n",
    "dfjson = pd.read_json(datasets_path + 'search_logs_1_large.json', orient='records')\n",
    "jsoncols = list(dfjson.columns)\n",
    "print(\"All labels in data:\\n\")\n",
    "display(jsoncols)\n",
    "print(\"\")\n",
    "print(dfjson.index)\n"
   ]
  },
  {
   "cell_type": "code",
   "execution_count": 97,
   "metadata": {
    "collapsed": false
   },
   "outputs": [
    {
     "data": {
      "text/html": [
       "<div>\n",
       "<style>\n",
       "    .dataframe thead tr:only-child th {\n",
       "        text-align: right;\n",
       "    }\n",
       "\n",
       "    .dataframe thead th {\n",
       "        text-align: left;\n",
       "    }\n",
       "\n",
       "    .dataframe tbody tr th {\n",
       "        vertical-align: top;\n",
       "    }\n",
       "</style>\n",
       "<table border=\"1\" class=\"dataframe\">\n",
       "  <thead>\n",
       "    <tr style=\"text-align: right;\">\n",
       "      <th></th>\n",
       "      <th>alert.action</th>\n",
       "      <th>alert.category</th>\n",
       "      <th>alert.signature_id</th>\n",
       "      <th>client_name</th>\n",
       "      <th>dest_ip</th>\n",
       "      <th>dest_port</th>\n",
       "      <th>geoip.country_name</th>\n",
       "      <th>geoip.region_name</th>\n",
       "      <th>log_source</th>\n",
       "      <th>null</th>\n",
       "      <th>packet</th>\n",
       "      <th>src_ip</th>\n",
       "      <th>src_port</th>\n",
       "    </tr>\n",
       "  </thead>\n",
       "  <tbody>\n",
       "    <tr>\n",
       "      <th>0</th>\n",
       "      <td>alert.category</td>\n",
       "      <td>@timestamp</td>\n",
       "      <td>alert.action</td>\n",
       "      <td>alert.signature_id</td>\n",
       "      <td>src_ip</td>\n",
       "      <td>src_port</td>\n",
       "      <td>client_name</td>\n",
       "      <td>geoip.country_name</td>\n",
       "      <td>dest_port</td>\n",
       "      <td>[packet]</td>\n",
       "      <td>log_source</td>\n",
       "      <td>geoip.region_name</td>\n",
       "      <td>dest_ip</td>\n",
       "    </tr>\n",
       "    <tr>\n",
       "      <th>...</th>\n",
       "      <td>...</td>\n",
       "      <td>...</td>\n",
       "      <td>...</td>\n",
       "      <td>...</td>\n",
       "      <td>...</td>\n",
       "      <td>...</td>\n",
       "      <td>...</td>\n",
       "      <td>...</td>\n",
       "      <td>...</td>\n",
       "      <td>...</td>\n",
       "      <td>...</td>\n",
       "      <td>...</td>\n",
       "      <td>...</td>\n",
       "    </tr>\n",
       "    <tr>\n",
       "      <th>27160</th>\n",
       "      <td>Potentially Bad Traffic</td>\n",
       "      <td>August 1st 2018, 19:47:04.158</td>\n",
       "      <td>allowed</td>\n",
       "      <td>2025711</td>\n",
       "      <td>10.1.130.30</td>\n",
       "      <td>52959</td>\n",
       "      <td>care</td>\n",
       "      <td></td>\n",
       "      <td>445</td>\n",
       "      <td>[1L7ZNIzXCFsOppGwCABFAAEMc8sAAH0GzPgKAYIeCrRlV...</td>\n",
       "      <td>suricata</td>\n",
       "      <td></td>\n",
       "      <td>10.180.101.85</td>\n",
       "    </tr>\n",
       "  </tbody>\n",
       "</table>\n",
       "<p>27161 rows × 13 columns</p>\n",
       "</div>"
      ],
      "text/plain": [
       "                  alert.action                 alert.category  \\\n",
       "0               alert.category                     @timestamp   \n",
       "...                        ...                            ...   \n",
       "27160  Potentially Bad Traffic  August 1st 2018, 19:47:04.158   \n",
       "\n",
       "      alert.signature_id         client_name      dest_ip dest_port  \\\n",
       "0           alert.action  alert.signature_id       src_ip  src_port   \n",
       "...                  ...                 ...          ...       ...   \n",
       "27160            allowed             2025711  10.1.130.30     52959   \n",
       "\n",
       "      geoip.country_name   geoip.region_name log_source  \\\n",
       "0            client_name  geoip.country_name  dest_port   \n",
       "...                  ...                 ...        ...   \n",
       "27160               care                            445   \n",
       "\n",
       "                                                    null      packet  \\\n",
       "0                                               [packet]  log_source   \n",
       "...                                                  ...         ...   \n",
       "27160  [1L7ZNIzXCFsOppGwCABFAAEMc8sAAH0GzPgKAYIeCrRlV...    suricata   \n",
       "\n",
       "                  src_ip       src_port  \n",
       "0      geoip.region_name        dest_ip  \n",
       "...                  ...            ...  \n",
       "27160                     10.180.101.85  \n",
       "\n",
       "[27161 rows x 13 columns]"
      ]
     },
     "metadata": {},
     "output_type": "display_data"
    }
   ],
   "source": [
    "display(dfjson)"
   ]
  },
  {
   "cell_type": "code",
   "execution_count": 100,
   "metadata": {
    "collapsed": false
   },
   "outputs": [
    {
     "name": "stdout",
     "output_type": "stream",
     "text": [
      "Compare the dataframe above with original below\n"
     ]
    },
    {
     "data": {
      "text/html": [
       "<div>\n",
       "<style>\n",
       "    .dataframe thead tr:only-child th {\n",
       "        text-align: right;\n",
       "    }\n",
       "\n",
       "    .dataframe thead th {\n",
       "        text-align: left;\n",
       "    }\n",
       "\n",
       "    .dataframe tbody tr th {\n",
       "        vertical-align: top;\n",
       "    }\n",
       "</style>\n",
       "<table border=\"1\" class=\"dataframe\">\n",
       "  <thead>\n",
       "    <tr style=\"text-align: right;\">\n",
       "      <th></th>\n",
       "      <th>alert.category</th>\n",
       "      <th>alert.action</th>\n",
       "      <th>alert.signature_id</th>\n",
       "      <th>client_name</th>\n",
       "      <th>geoip.country_name</th>\n",
       "      <th>geoip.region_name</th>\n",
       "      <th>src_ip</th>\n",
       "      <th>dest_ip</th>\n",
       "      <th>src_port</th>\n",
       "      <th>dest_port</th>\n",
       "      <th>log_source</th>\n",
       "      <th>packet</th>\n",
       "    </tr>\n",
       "    <tr>\n",
       "      <th>@timestamp</th>\n",
       "      <th></th>\n",
       "      <th></th>\n",
       "      <th></th>\n",
       "      <th></th>\n",
       "      <th></th>\n",
       "      <th></th>\n",
       "      <th></th>\n",
       "      <th></th>\n",
       "      <th></th>\n",
       "      <th></th>\n",
       "      <th></th>\n",
       "      <th></th>\n",
       "    </tr>\n",
       "  </thead>\n",
       "  <tbody>\n",
       "    <tr>\n",
       "      <th>August 1st 2018, 23:59:56.883</th>\n",
       "      <td>Attempted User Privilege Gain</td>\n",
       "      <td>allowed</td>\n",
       "      <td>2016149</td>\n",
       "      <td>care</td>\n",
       "      <td>United States</td>\n",
       "      <td>Texas</td>\n",
       "      <td>10.1.104.149</td>\n",
       "      <td>70.85.220.74</td>\n",
       "      <td>50646</td>\n",
       "      <td>3478</td>\n",
       "      <td>suricata</td>\n",
       "      <td>vBZlHoECaL2r131CCABFAAAwbKgAAH4ROt8KAWiVRlXcSs...</td>\n",
       "    </tr>\n",
       "    <tr>\n",
       "      <th>...</th>\n",
       "      <td>...</td>\n",
       "      <td>...</td>\n",
       "      <td>...</td>\n",
       "      <td>...</td>\n",
       "      <td>...</td>\n",
       "      <td>...</td>\n",
       "      <td>...</td>\n",
       "      <td>...</td>\n",
       "      <td>...</td>\n",
       "      <td>...</td>\n",
       "      <td>...</td>\n",
       "      <td>...</td>\n",
       "    </tr>\n",
       "    <tr>\n",
       "      <th>August 1st 2018, 19:47:04.158</th>\n",
       "      <td>Potentially Bad Traffic</td>\n",
       "      <td>allowed</td>\n",
       "      <td>2025711</td>\n",
       "      <td>care</td>\n",
       "      <td>NaN</td>\n",
       "      <td>NaN</td>\n",
       "      <td>10.1.130.30</td>\n",
       "      <td>10.180.101.85</td>\n",
       "      <td>52959</td>\n",
       "      <td>445</td>\n",
       "      <td>suricata</td>\n",
       "      <td>1L7ZNIzXCFsOppGwCABFAAEMc8sAAH0GzPgKAYIeCrRlVc...</td>\n",
       "    </tr>\n",
       "  </tbody>\n",
       "</table>\n",
       "<p>27160 rows × 12 columns</p>\n",
       "</div>"
      ],
      "text/plain": [
       "                                              alert.category alert.action  \\\n",
       "@timestamp                                                                  \n",
       "August 1st 2018, 23:59:56.883  Attempted User Privilege Gain      allowed   \n",
       "...                                                      ...          ...   \n",
       "August 1st 2018, 19:47:04.158        Potentially Bad Traffic      allowed   \n",
       "\n",
       "                               alert.signature_id client_name  \\\n",
       "@timestamp                                                      \n",
       "August 1st 2018, 23:59:56.883             2016149        care   \n",
       "...                                           ...         ...   \n",
       "August 1st 2018, 19:47:04.158             2025711        care   \n",
       "\n",
       "                              geoip.country_name geoip.region_name  \\\n",
       "@timestamp                                                           \n",
       "August 1st 2018, 23:59:56.883      United States             Texas   \n",
       "...                                          ...               ...   \n",
       "August 1st 2018, 19:47:04.158                NaN               NaN   \n",
       "\n",
       "                                     src_ip        dest_ip  src_port  \\\n",
       "@timestamp                                                             \n",
       "August 1st 2018, 23:59:56.883  10.1.104.149   70.85.220.74     50646   \n",
       "...                                     ...            ...       ...   \n",
       "August 1st 2018, 19:47:04.158   10.1.130.30  10.180.101.85     52959   \n",
       "\n",
       "                               dest_port log_source  \\\n",
       "@timestamp                                            \n",
       "August 1st 2018, 23:59:56.883       3478   suricata   \n",
       "...                                  ...        ...   \n",
       "August 1st 2018, 19:47:04.158        445   suricata   \n",
       "\n",
       "                                                                          packet  \n",
       "@timestamp                                                                        \n",
       "August 1st 2018, 23:59:56.883  vBZlHoECaL2r131CCABFAAAwbKgAAH4ROt8KAWiVRlXcSs...  \n",
       "...                                                                          ...  \n",
       "August 1st 2018, 19:47:04.158  1L7ZNIzXCFsOppGwCABFAAEMc8sAAH0GzPgKAYIeCrRlVc...  \n",
       "\n",
       "[27160 rows x 12 columns]"
      ]
     },
     "metadata": {},
     "output_type": "display_data"
    }
   ],
   "source": [
    "print(\"Compare the dataframe above with original below\")\n",
    "display(full_data)"
   ]
  },
  {
   "cell_type": "code",
   "execution_count": null,
   "metadata": {
    "collapsed": true
   },
   "outputs": [],
   "source": []
  }
 ],
 "metadata": {
  "kernelspec": {
   "display_name": "Python 3",
   "language": "python",
   "name": "python3"
  },
  "language_info": {
   "codemirror_mode": {
    "name": "ipython",
    "version": 3
   },
   "file_extension": ".py",
   "mimetype": "text/x-python",
   "name": "python",
   "nbconvert_exporter": "python",
   "pygments_lexer": "ipython3",
   "version": "3.5.3"
  }
 },
 "nbformat": 4,
 "nbformat_minor": 2
}
